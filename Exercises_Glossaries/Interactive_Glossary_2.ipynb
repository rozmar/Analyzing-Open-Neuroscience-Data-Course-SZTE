{
  "nbformat": 4,
  "nbformat_minor": 0,
  "metadata": {
    "colab": {
      "provenance": [],
      "authorship_tag": "ABX9TyP9rggRrc+HcWrRxiLGNcMc",
      "include_colab_link": true
    },
    "kernelspec": {
      "name": "python3",
      "display_name": "Python 3"
    },
    "language_info": {
      "name": "python"
    }
  },
  "cells": [
    {
      "cell_type": "markdown",
      "metadata": {
        "id": "view-in-github",
        "colab_type": "text"
      },
      "source": [
        "<a href=\"https://colab.research.google.com/github/rozmar/Analyzing-Open-Neuroscience-Data-Course-SZTE/blob/main/Exercises_Glossaries/Interactive_Glossary_2.ipynb\" target=\"_parent\"><img src=\"https://colab.research.google.com/assets/colab-badge.svg\" alt=\"Open In Colab\"/></a>"
      ]
    },
    {
      "cell_type": "markdown",
      "source": [
        "Hello!\\\n",
        "Here is a few things to look through before lesson three, where we will learn hw to use conditionals and loops. \\\n",
        "(there will be a lot of user inputs in this notebook, you will make your life easier if you execute cells 1 by 1 (not with Run all before))"
      ],
      "metadata": {
        "id": "_AjVXKkCFjcL"
      }
    },
    {
      "cell_type": "markdown",
      "source": [
        "Before we jump int conditional statements let's look at:\n",
        "- comparison operators (==, !=, <, >, <=, >=)\n",
        "- logical operators (and, or, not)"
      ],
      "metadata": {
        "id": "DSuL0h9jor2t"
      }
    },
    {
      "cell_type": "code",
      "source": [
        "# Here is an example use of comparison operators\n",
        "\n",
        "the_answear_to_everything = 42\n",
        "\n",
        "print(the_answear_to_everything == 42)            #equals\n",
        "print(the_answear_to_everything != 42)            #not equals\n",
        "print(the_answear_to_everything > 42)             #greater than\n",
        "print(the_answear_to_everything >= 42)            #greater or equal to\n",
        "print(the_answear_to_everything < 42)             #less than\n",
        "print(the_answear_to_everything <= 42)            #less than or equal to\n"
      ],
      "metadata": {
        "colab": {
          "base_uri": "https://localhost:8080/"
        },
        "id": "SP_VY16L_zgf",
        "outputId": "62cad152-bfd1-4c58-c239-7a131cf3fb10"
      },
      "execution_count": null,
      "outputs": [
        {
          "output_type": "stream",
          "name": "stdout",
          "text": [
            "True\n",
            "False\n",
            "False\n",
            "True\n",
            "False\n",
            "True\n"
          ]
        }
      ]
    },
    {
      "cell_type": "code",
      "source": [
        "# Here is an example use of logical operators\n",
        "\n",
        "coffees_drinken = 3\n",
        "have_slept = False\n",
        "\n",
        "print(coffees_drinken > 1 and have_slept)   # True only if both are true\n",
        "print(coffees_drinken > 2 or have_slept)    # True if at least one is true\n",
        "print(not have_slept)                        # Reverses the boolean value\n",
        "\n"
      ],
      "metadata": {
        "colab": {
          "base_uri": "https://localhost:8080/"
        },
        "id": "RYsyvRriwEY4",
        "outputId": "bae35451-e5c4-4a4c-c7dc-07912e7461cb"
      },
      "execution_count": 15,
      "outputs": [
        {
          "output_type": "stream",
          "name": "stdout",
          "text": [
            "False\n",
            "True\n",
            "True\n"
          ]
        }
      ]
    },
    {
      "cell_type": "markdown",
      "source": [
        "#Conditionals (if, elif, else)\n",
        "Conditionals allow your program to make decisions. Instead of always running the same commands, you can tell Python to choose different actions depending on whether a condition is true or false.\n",
        "\n",
        "- if → checks the first condition.\n",
        "\n",
        "- elif (“else if”) → checks the next condition if the first was false.\n",
        "\n",
        "- else → runs only if none of the previous conditions were true."
      ],
      "metadata": {
        "id": "uYRzq9h_Sdpg"
      }
    },
    {
      "cell_type": "code",
      "source": [
        "#you can assign bolean values to variables and then if statements\n",
        "#get executed according to the \"truth\" of the variable\n",
        "\n",
        "the_world_is_flat = True\n",
        "if the_world_is_flat:\n",
        "    print(\"Be careful not to fall off!\")\n",
        "\n"
      ],
      "metadata": {
        "id": "uBumrZYdAqWJ"
      },
      "execution_count": null,
      "outputs": []
    },
    {
      "cell_type": "markdown",
      "source": [
        "Indentation\\\n",
        "Note that the print statement doesn't start at the beginning of the line.\\\n",
        "Indentation refers to the spaces (or tabs) at the beginning of a code line. Indentation is a way of \"telling a Python\" that the group of statements (\"inner lines\") belongs to a particular block of code (starting from the \"outer line\" preceeding the indented lines). \\\n",
        "Block can be regarded as the grouping of statements for a specific purpose.\n",
        "\n"
      ],
      "metadata": {
        "id": "8vPrc9qLqe4W"
      }
    },
    {
      "cell_type": "code",
      "source": [
        "is_alive = (\"Biden\", \"Halász Judit\", \"Beyonce\", \"hope\", \"Chuck Norris\")\n",
        "user_input = input(\"Enter a name: \")\n",
        "if user_input in is_alive:              # if this statement is true the nested code will be executed (and else will be skipped)\n",
        "    print(f\"{user_input} is alive!\")\n",
        "\n",
        "else:\n",
        "    print(f\"{user_input} may be dead!\") #if the input name is not in the list, this line gets executed"
      ],
      "metadata": {
        "id": "o1msp_KUErWD"
      },
      "execution_count": null,
      "outputs": []
    },
    {
      "cell_type": "code",
      "source": [
        "#A simple if test\n",
        "age = input(\"Enter a number: \") # try with 1, 17 and 60\n",
        "age = int(age)                  #inputs have to be converted into ints (otherwise they are treated as strings)\n",
        "\n",
        "if age >= 18:\n",
        "  print(\"You can vote!\")\n",
        "\n",
        "#If-elif-else statements\n",
        "if age < 4:\n",
        "  ticket_price = 0\n",
        "elif age < 18:\n",
        "  ticket_price = 10\n",
        "else:\n",
        "  ticket_price = 15\n",
        "\n",
        "print(\"Ticket price: \" + str(ticket_price) + \".\")"
      ],
      "metadata": {
        "id": "uH_zxXFhI5j9",
        "colab": {
          "base_uri": "https://localhost:8080/"
        },
        "collapsed": true,
        "outputId": "bf38e434-aaf7-4b7b-a0d7-34cfb79548a4"
      },
      "execution_count": 9,
      "outputs": [
        {
          "output_type": "stream",
          "name": "stdout",
          "text": [
            "Enter a number: 5\n",
            "Ticket price: 10.\n"
          ]
        }
      ]
    },
    {
      "cell_type": "code",
      "source": [
        "#Be careful python executes the lines in order\n",
        "age = input(\"Enter a number: \") #try -1, 1, 20, 40, 66\n",
        "age = int(age)                  #inputs have to be converted into ints (otherwise they are treated as strings)\n",
        "\n",
        "if age < 0:\n",
        "  print(\"has not been born\")\n",
        "elif age < 60:\n",
        "  print(\"has to work\")\n",
        "elif age < 21:\n",
        "  print(\"can't vote in the states\") #this line never gets executed because everithing\n",
        "                                    #that is <21 also <60\n",
        "else:\n",
        "  print(\"can retire\")\n",
        "\n"
      ],
      "metadata": {
        "colab": {
          "base_uri": "https://localhost:8080/"
        },
        "id": "lrmwH5s_JNcW",
        "outputId": "22465072-aa77-4c6f-d3ae-9fcdbe15e242"
      },
      "execution_count": null,
      "outputs": [
        {
          "output_type": "stream",
          "name": "stdout",
          "text": [
            "Enter a nuber: 99\n",
            "can retire\n"
          ]
        }
      ]
    },
    {
      "cell_type": "markdown",
      "source": [
        "Let's look at some logical operators."
      ],
      "metadata": {
        "id": "4DdYLfAjuJ47"
      }
    },
    {
      "cell_type": "code",
      "source": [
        "age = input(\"Enter a number: \")\n",
        "age = int(age)\n",
        "\n",
        "if age <1 or age > 110:\n",
        "  print(\"Cannot eat solid food\")\n",
        "\n",
        "else:\n",
        "  print(\"Can eat solid food\")"
      ],
      "metadata": {
        "id": "M7xJm2qwMAo9"
      },
      "execution_count": null,
      "outputs": []
    },
    {
      "cell_type": "code",
      "source": [
        "x = 7\n",
        "\n",
        "if x is not 6:\n",
        "  print(\"x is not 6\")\n",
        "else:\n",
        "  print(\"x is 6\")"
      ],
      "metadata": {
        "colab": {
          "base_uri": "https://localhost:8080/"
        },
        "id": "Z-J8VC2nuYZ6",
        "outputId": "db8f6fbc-9313-4173-e10a-bb3833c05e86"
      },
      "execution_count": 11,
      "outputs": [
        {
          "output_type": "stream",
          "name": "stdout",
          "text": [
            "x is not 6\n"
          ]
        },
        {
          "output_type": "stream",
          "name": "stderr",
          "text": [
            "<>:3: SyntaxWarning: \"is not\" with 'int' literal. Did you mean \"!=\"?\n",
            "<>:3: SyntaxWarning: \"is not\" with 'int' literal. Did you mean \"!=\"?\n",
            "/tmp/ipython-input-2695963008.py:3: SyntaxWarning: \"is not\" with 'int' literal. Did you mean \"!=\"?\n",
            "  if x is not 6:\n"
          ]
        }
      ]
    },
    {
      "cell_type": "markdown",
      "source": [
        "The is and is not operators check for object identity, meaning they check if two variables refer to the exact same object in memory. While it works for small integers due to Python's integer caching, it's generally recommended to use != for checking if two values are not equal, as != checks for value equality rather than object identity. The SyntaxWarning in the output indicates this recommendation."
      ],
      "metadata": {
        "id": "IU_5lXWVveUZ"
      }
    },
    {
      "cell_type": "code",
      "metadata": {
        "colab": {
          "base_uri": "https://localhost:8080/"
        },
        "id": "7e8581ce",
        "outputId": "4d9870f3-9e4f-443b-fcea-ce47790c70e8"
      },
      "source": [
        "# Here is a mor \"appropriate\" example using the 'not' logical operator\n",
        "\n",
        "is_sunny = False\n",
        "\n",
        "if not is_sunny:\n",
        "  print(\"It's not sunny today.\")\n",
        "else:\n",
        "  print(\"It's sunny today.\")"
      ],
      "execution_count": 12,
      "outputs": [
        {
          "output_type": "stream",
          "name": "stdout",
          "text": [
            "It's not sunny today.\n"
          ]
        }
      ]
    },
    {
      "cell_type": "markdown",
      "source": [
        "#Loops\n",
        "Loops let us repeat actions without writing the same code many times.\n",
        "\n",
        " # For loops\n",
        "\n",
        "  - repeats a block of code for each item in a sequence (list, dictionary, string, etc.)\n",
        " - good when you know how many items you want to loop through (definite)\n",
        "\n",
        "\n",
        "\n",
        "# While loop\n",
        " - repeats a block of code as long as a condition is true\n",
        " - good when you want to loop until a condition is met (stops when the condition becomes False)(indefinite)  \n"
      ],
      "metadata": {
        "id": "pRQtlUKOCp6y"
      }
    },
    {
      "cell_type": "markdown",
      "source": [
        "Let's look at some for loops."
      ],
      "metadata": {
        "id": "N5w3TMacFSSn"
      }
    },
    {
      "cell_type": "code",
      "source": [
        "friends = ['Joseph', 'Glenn', 'Sally']\n",
        "for friend in friends:\n",
        "  print('Happy New Year:', friend)\n",
        "print('Done!')\n"
      ],
      "metadata": {
        "colab": {
          "base_uri": "https://localhost:8080/"
        },
        "id": "b1tz98t1FWat",
        "outputId": "fff469fa-5d68-4392-8394-4532c6736257"
      },
      "execution_count": 23,
      "outputs": [
        {
          "output_type": "stream",
          "name": "stdout",
          "text": [
            "Happy New Year: Joseph\n",
            "Happy New Year: Glenn\n",
            "Happy New Year: Sally\n",
            "Done!\n"
          ]
        }
      ]
    },
    {
      "cell_type": "code",
      "source": [
        "#Looping through all key-value pairs\n",
        "fav_numbers = {'Eric': 17, 'Eva': 4}\n",
        "for name, number in fav_numbers.items():\n",
        "    print(name + ' loves ' + str(number))\n",
        "\n",
        "#Looping through all keys\n",
        "fav_numbers = {'Eric': 17, 'Eva': 4}\n",
        "for name in fav_numbers.keys():\n",
        "    print(name + ' loves a number')\n",
        "\n",
        "#Looping through all the values\n",
        "fav_numbers = {'Eric': 17, 'Eva': 4}\n",
        "for number in fav_numbers.values():\n",
        "    print(str(number) + ' is a favorite')"
      ],
      "metadata": {
        "id": "RnIyHulvGyHI",
        "colab": {
          "base_uri": "https://localhost:8080/"
        },
        "outputId": "ab62fe77-fc01-41fb-8fc7-b56677c8f119"
      },
      "execution_count": 21,
      "outputs": [
        {
          "output_type": "stream",
          "name": "stdout",
          "text": [
            "Eric loves 17\n",
            "Eva loves 4\n",
            "Eric loves a number\n",
            "Eva loves a number\n",
            "17 is a favorite\n",
            "4 is a favorite\n"
          ]
        }
      ]
    },
    {
      "cell_type": "markdown",
      "source": [
        "break\\\n",
        "The break statement is used to stop a loop early (even if it has not finished going through all items or the condition is still true). It's useful if you just want to \"find\" something or want to know where a condition first becomes True. It jumps to the next code block."
      ],
      "metadata": {
        "id": "RvSVxOhhPSki"
      }
    },
    {
      "cell_type": "code",
      "source": [
        "madarak = [\"fioka1\", \"fioka2\", \"kakukk\", \"fioka3\"]\n",
        "\n",
        "for madar in madarak:\n",
        "    if madar == \"kakukk\":\n",
        "        print(\"Found kakukk, stop search.\")\n",
        "        break\n",
        "    print(\"Checking:\", madar)           #This line is not executed\n"
      ],
      "metadata": {
        "colab": {
          "base_uri": "https://localhost:8080/"
        },
        "id": "wQOYYPnyIn5L",
        "outputId": "6f68cf2f-5ce5-4226-9a6a-c8d966d2fece"
      },
      "execution_count": 25,
      "outputs": [
        {
          "output_type": "stream",
          "name": "stdout",
          "text": [
            "Checking: fioka1\n",
            "Checking: fioka2\n",
            "Found kakukk, stop search.\n"
          ]
        }
      ]
    },
    {
      "cell_type": "markdown",
      "source": [
        "Here you could also see that you can  mix loops and conditionals."
      ],
      "metadata": {
        "id": "5DMr8k858ZUc"
      }
    },
    {
      "cell_type": "markdown",
      "source": [
        "continue\\\n",
        "The continue statement skips the rest of the code in the current loop iteration, and moves on to the next one. It jumps back to the beggining of the loop (but ignores the argument where the condition for continue was true)."
      ],
      "metadata": {
        "id": "UPEjncEyPT65"
      }
    },
    {
      "cell_type": "code",
      "source": [
        "numbers = [1, 2, 3, 4, 5]\n",
        "\n",
        "for n in numbers:\n",
        "    if n == 3:\n",
        "        continue   # skip number 3\n",
        "    print(\"Processing:\", n)\n"
      ],
      "metadata": {
        "colab": {
          "base_uri": "https://localhost:8080/"
        },
        "id": "WeA05d1jKBMK",
        "outputId": "95cbda17-3c9c-4d3f-d618-1e081921b34f"
      },
      "execution_count": 26,
      "outputs": [
        {
          "output_type": "stream",
          "name": "stdout",
          "text": [
            "Processing: 1\n",
            "Processing: 2\n",
            "Processing: 4\n",
            "Processing: 5\n"
          ]
        }
      ]
    },
    {
      "cell_type": "markdown",
      "source": [
        "Let's look at some while loops."
      ],
      "metadata": {
        "id": "3TUso4QiylMi"
      }
    },
    {
      "cell_type": "code",
      "source": [
        "n = 5\n",
        "while n > 0:\n",
        "    print(n)\n",
        "    n = n - 1  # the loop circles back to the \"while line\" and assigns n-1 to n, so n starts to decrease\n",
        "print('Blastoff!')"
      ],
      "metadata": {
        "colab": {
          "base_uri": "https://localhost:8080/"
        },
        "id": "Ls6RKvtpFpdd",
        "outputId": "c7ecc2b0-2e6e-494e-c517-2bed2b12da93"
      },
      "execution_count": 24,
      "outputs": [
        {
          "output_type": "stream",
          "name": "stdout",
          "text": [
            "5\n",
            "4\n",
            "3\n",
            "2\n",
            "1\n",
            "Blastoff!\n"
          ]
        }
      ]
    },
    {
      "cell_type": "code",
      "source": [],
      "metadata": {
        "id": "BddDrkITFpve"
      },
      "execution_count": null,
      "outputs": []
    },
    {
      "cell_type": "markdown",
      "source": [
        "#Nested loops\n",
        "When there are one or more loops “inside” of another loop. The\n",
        "inner loop runs to completion each time the outer loop runs once"
      ],
      "metadata": {
        "id": "6dBu1fyiLqaE"
      }
    },
    {
      "cell_type": "code",
      "source": [
        "# Example of a nested loop\n",
        "\n",
        "students = [\"Alice\", \"Bob\"]\n",
        "exercises = [1, 2, 3]\n",
        "\n",
        "for student in students:          # outer loop\n",
        "    for exercise in exercises:    # inner loop\n",
        "        print(student, \"is working on exercise\", exercise)\n"
      ],
      "metadata": {
        "id": "ft5igN4XLzhm"
      },
      "execution_count": null,
      "outputs": []
    },
    {
      "cell_type": "markdown",
      "source": [
        "#Functions\n",
        "A reusable block of code that performs a task. It can exist on its own.\\\n",
        "In the context of programming, a function is a named sequence of statements that\n",
        "performs a computation. When you define a function, you specify the name and\n",
        "the sequence of statements. Later, you can “call” the function by name."
      ],
      "metadata": {
        "id": "l8pprnvV-yFk"
      }
    },
    {
      "cell_type": "markdown",
      "source": [
        "Methods\\\n",
        "A function that belongs to an object (like a list, string, or dictionary) and is called using . dot notation.\n"
      ],
      "metadata": {
        "id": "X5p3QvkO-1fH"
      }
    },
    {
      "cell_type": "markdown",
      "source": [
        "function call:\\\n",
        "A statement that executes a function. It consists of the function\n",
        "name (e.g.:type) followed by an argument list (the things in parenthesis after the function name).\\\n",
        "It is common to say that a function “takes” an argument and “returns” a result.\n",
        "The result is called the return value.\n",
        "\n",
        "parameter:\\\n",
        "A name used inside a function to refer to the value passed as an\n",
        "argument. (A bit like variable (parameter) and value (argument).)\n",
        "\n",
        "function object\\\n",
        " A value created by a function definition. The name of the function is a variable that refers to a function object."
      ],
      "metadata": {
        "id": "JnOfv0XsI9e4"
      }
    },
    {
      "cell_type": "markdown",
      "source": [
        "Built in functions\\\n",
        "Python provides a number of important built-in functions that we can use without\n",
        "needing to provide the function definition.\\\n",
        "Like the ones we used before: type(), range(), len(), max()..."
      ],
      "metadata": {
        "id": "WOt7nGZEMVQl"
      }
    },
    {
      "cell_type": "markdown",
      "source": [
        "But we can make new functions as well with:\n",
        "\n",
        "Function definition\\\n",
        "A statement that creates a new function, specifying its name,\n",
        "parameters, and the statements it executes (see later).\n"
      ],
      "metadata": {
        "id": "gNlRwf6C_i8B"
      }
    },
    {
      "cell_type": "code",
      "source": [
        "def greet_user():                       # functions are defined with \"def\" followed by the function name(and parameters)\n",
        "    \"\"\"Display a simple greeting.\"\"\"    # text between \"\"\" appears if you type help(greet_user) (help(function name))\n",
        "    print(\"Hello!\")                     # subsequent nested lines describe what does the new function do\n",
        "\n",
        "greet_user()                            # functions have to be called to be executed"
      ],
      "metadata": {
        "colab": {
          "base_uri": "https://localhost:8080/"
        },
        "id": "7Dvpiu-CAL08",
        "outputId": "b3b171aa-f04c-427b-bf9a-fd0831092229"
      },
      "execution_count": 16,
      "outputs": [
        {
          "output_type": "stream",
          "name": "stdout",
          "text": [
            "Hello!\n"
          ]
        }
      ]
    },
    {
      "cell_type": "code",
      "source": [
        "help(greet_user)"
      ],
      "metadata": {
        "colab": {
          "base_uri": "https://localhost:8080/"
        },
        "id": "Jj75qMRXBcec",
        "outputId": "cde56182-958c-4bd5-d4b6-5ef3beb8fe45"
      },
      "execution_count": 17,
      "outputs": [
        {
          "output_type": "stream",
          "name": "stdout",
          "text": [
            "Help on function greet_user in module __main__:\n",
            "\n",
            "greet_user()\n",
            "    Display a simple greeting.\n",
            "\n"
          ]
        }
      ]
    },
    {
      "cell_type": "markdown",
      "source": [
        "List comprehensions"
      ],
      "metadata": {
        "id": "XGLa9Jpq-n_e"
      }
    },
    {
      "cell_type": "code",
      "execution_count": null,
      "metadata": {
        "colab": {
          "base_uri": "https://localhost:8080/"
        },
        "id": "qGQ0hWNCScQY",
        "outputId": "ccf8726b-6721-4b71-f9ba-9d3c771dd847"
      },
      "outputs": [
        {
          "output_type": "stream",
          "name": "stdout",
          "text": [
            "<class 'list'>\n",
            "[1]\n",
            "[1, 4]\n",
            "[1, 4, 9]\n",
            "[1, 4, 9, 16]\n",
            "[1, 4, 9, 16, 25]\n",
            "[1, 4, 9, 16, 25, 36]\n",
            "[1, 4, 9, 16, 25, 36, 49]\n",
            "[1, 4, 9, 16, 25, 36, 49, 64]\n",
            "[1, 4, 9, 16, 25, 36, 49, 64, 81]\n",
            "[1, 4, 9, 16, 25, 36, 49, 64, 81, 100]\n",
            "[1, 4, 9, 16, 25, 36, 49, 64, 81, 100]\n"
          ]
        }
      ],
      "source": [
        "#Making numerical lists\n",
        "squares = []\n",
        "print(type(squares))\n",
        "for x in range(1, 11):\n",
        "  squares.append(x**2)\n",
        "  print(squares)\n",
        "\n",
        "print(squares) #!!!!\n"
      ]
    },
    {
      "cell_type": "markdown",
      "source": [
        "return"
      ],
      "metadata": {
        "id": "af8mJxaePVSh"
      }
    },
    {
      "cell_type": "markdown",
      "source": [
        "initialisation"
      ],
      "metadata": {
        "id": "K8jwO2d7Pc-k"
      }
    }
  ]
}