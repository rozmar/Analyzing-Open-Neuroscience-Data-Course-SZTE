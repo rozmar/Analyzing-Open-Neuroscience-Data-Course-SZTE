{
  "cells": [
    {
      "cell_type": "markdown",
      "metadata": {
        "id": "view-in-github",
        "colab_type": "text"
      },
      "source": [
        "<a href=\"https://colab.research.google.com/github/rozmar/Analyzing-Open-Neuroscience-Data-Course-SZTE/blob/main/Exercises_Glossaries/Interactive_Glossary_4.ipynb\" target=\"_parent\"><img src=\"https://colab.research.google.com/assets/colab-badge.svg\" alt=\"Open In Colab\"/></a>"
      ]
    },
    {
      "cell_type": "markdown",
      "id": "8f300006",
      "metadata": {
        "id": "8f300006"
      },
      "source": [
        "\n",
        "Hello!\\\n",
        " In this lesson you’ll learn how to use **pandas** for working with **tabular (table-like)** data in Python.\n",
        "\n"
      ]
    },
    {
      "cell_type": "markdown",
      "id": "bcecf7c5",
      "metadata": {
        "id": "bcecf7c5"
      },
      "source": [
        "Again, we are going to use a set of pre-written functions (that are not built into Python), so we need to import it. These scripts are updated time to time which creates different versions. You can check a file's version with the .__version__ annotation.\n"
      ]
    },
    {
      "cell_type": "markdown",
      "id": "cdf6c827",
      "metadata": {
        "id": "cdf6c827"
      },
      "source": [
        "# What is pandas?\n",
        "\n",
        "- **pandas** is a Python **library for data analysis**\n",
        "- It works with two main objects:\n",
        "  - **Series**: a 1‑D labeled array (like a column with numbers, it has values (the numbers), indexes (the rows of the values), and can have a name (that refers the whole object)\n",
        "  - **DataFrame**: a 2‑D labeled table (rows × columns) (a the lot like the 2D numpy arrays we used during the last lesson)\n",
        "    \n",
        "- It builds on **NumPy**, but adds **labels** and **table operations** that feel like a spreadsheet.\n",
        "\n"
      ]
    },
    {
      "cell_type": "code",
      "execution_count": null,
      "id": "8fc544d9",
      "metadata": {
        "id": "8fc544d9"
      },
      "outputs": [],
      "source": [
        "#imports are typically at the begining of the script, and you can acces the imported modules throughout the script\n",
        "import pandas as pd\n",
        "\n",
        "import numpy as np  # pandas is built on NumPy arrays (ndarray) and many pandas ops call NumPy under the hood\n",
        "import matplotlib.pyplot as plt # we will use this later to visualise data and make figures\n",
        "\n",
        "#modules and packages are updated time to time, you can check it version with the module/package_name.__version__\n",
        "print(\"pandas:\", pd.__version__)\n",
        "\n"
      ]
    },
    {
      "cell_type": "markdown",
      "source": [],
      "metadata": {
        "id": "wkzXE3TICZZf"
      },
      "id": "wkzXE3TICZZf"
    },
    {
      "cell_type": "markdown",
      "id": "f87b6f3a",
      "metadata": {
        "id": "f87b6f3a"
      },
      "source": [
        "# Some useful definitions\n",
        "\n",
        "- **Series**: 1‑D labeled array (a single column)\n",
        "- **DataFrame**: 2‑D table of rows and columns\n",
        "- **Index**: row labels (can be numbers, strings, dates)\n",
        "- **Column**: column labels (named Series inside a DataFrame)\n",
        "\n",
        "- **Axis**: `axis=0` → down rows (per column); `axis=1` → across columns (per row).\n",
        "\n"
      ]
    },
    {
      "cell_type": "markdown",
      "id": "5e46d422",
      "metadata": {
        "id": "5e46d422"
      },
      "source": [
        "#Series"
      ]
    },
    {
      "cell_type": "code",
      "execution_count": null,
      "id": "1d8a818c",
      "metadata": {
        "id": "1d8a818c"
      },
      "outputs": [],
      "source": [
        "# Create a Series with labels\n",
        "# you can create a eries with pd.Series()\n",
        "# you can add values in a []\n",
        "# additionally, you can create indexes and add a name to the column\n",
        "\n",
        "a_series = pd.Series([10, 20, 30], index=[\"a\", \"b\", \"c\"], name=\"value\")\n",
        "a_series #in Colab, the last expression in a code cell is automatically displayed as the output\n"
      ]
    },
    {
      "cell_type": "code",
      "source": [
        "print(a_series)\n",
        "print(a_series.index, a_series.values, a_series.name)"
      ],
      "metadata": {
        "id": "8KohcZducyln"
      },
      "id": "8KohcZducyln",
      "execution_count": null,
      "outputs": []
    },
    {
      "cell_type": "code",
      "source": [
        "#look at what happens when you don't specify the indexes and the name\n",
        "another_series =pd.Series([1,2,3])  #values\n",
        "print(another_series.values, another_series.index, another_series.name)\n",
        "another_series\n"
      ],
      "metadata": {
        "id": "xhNB08IHdqEU"
      },
      "id": "xhNB08IHdqEU",
      "execution_count": null,
      "outputs": []
    },
    {
      "cell_type": "code",
      "execution_count": null,
      "id": "abab2f7e",
      "metadata": {
        "id": "abab2f7e"
      },
      "outputs": [],
      "source": [
        "# Indexing and vectorized math\n",
        "print(\"b: \",a_series[\"b\"])\n",
        "print(\"average: \", a_series.mean())\n",
        "print(\"a_series with 5 added to every number:\\n\",a_series + 5)"
      ]
    },
    {
      "cell_type": "markdown",
      "source": [
        "You can find values in a Series not only by their indexes but also, with their labels.\n",
        "\n",
        "- **`.loc`**: select by **labels**.\n",
        "- **`.iloc`**: select by **integer positions**\n",
        "\n",
        "You can select sections of a colun by specifying the start and end indexes or labels.\n",
        "\n",
        "- `df.loc[label_start:label_end]` (by label)\n",
        "- `df.iloc[start:stop]` (by position)\n",
        "\n",
        "\n",
        "\n",
        "### Columns\n",
        "- `df[\"GRM1\"]` → Series\n",
        "- `df[[\"GRM1\", \"GRM5\"]]` → DataFrame\n",
        "\n",
        "### Rows\n",
        "\n",
        "\n"
      ],
      "metadata": {
        "id": "NbKvqulRbS6J"
      },
      "id": "NbKvqulRbS6J"
    },
    {
      "cell_type": "code",
      "execution_count": null,
      "id": "a138dade",
      "metadata": {
        "id": "a138dade"
      },
      "outputs": [],
      "source": [
        "#Here you can see a Series with 3 genes and their respective indexes\n",
        "\n",
        "genes = pd.Series([\"GRM1\", \"GRM5\",\"GAD\"], index=[\"g1\",\"g2\",\"g3\"], name=\"gene\")\n",
        "print(genes.iloc[1])    #find value using indexes\n",
        "print(genes.loc[\"g2\"])  #find value using labels\n"
      ]
    },
    {
      "cell_type": "markdown",
      "id": "49fda892",
      "metadata": {
        "id": "49fda892"
      },
      "source": [
        "#DataFrame"
      ]
    },
    {
      "cell_type": "code",
      "execution_count": null,
      "id": "cadd0aae",
      "metadata": {
        "id": "cadd0aae"
      },
      "outputs": [],
      "source": [
        "# Create a small DataFrame from a dict\n",
        "# Keys will become column labels (\"Gene\", \"Expression\",\"Region\")\n",
        "# Values will become column data\n",
        "\n",
        "df = pd.DataFrame({\n",
        "    \"Gene\": [\"GRM1\", \"GRM5\", \"PVALB\", \"SST\"],\n",
        "    \"Expression\": [12.3, 8.7, 25.4, 15.1],\n",
        "    \"Region\": [\"Cortex\", \"Cortex\", \"Cortex\", \"Cortex\"]\n",
        "})\n",
        "\n",
        "\n",
        "df\n"
      ]
    },
    {
      "cell_type": "code",
      "execution_count": null,
      "id": "6cd2d8c4",
      "metadata": {
        "id": "6cd2d8c4"
      },
      "outputs": [],
      "source": [
        "# Inspect the created df\n",
        "\n",
        "print(df.shape)     # Note that column lables are not included\n",
        "print(df.index)     # if not specified the index will be the row number (starting from 0)\n",
        "print(df.columns)   # Keys will become column labels\n",
        "print(df.dtypes)    # Note that there can be multiple datatypes in one DataFrame\n",
        "\n",
        "\n"
      ]
    },
    {
      "cell_type": "code",
      "execution_count": null,
      "id": "b7f3749e",
      "metadata": {
        "id": "b7f3749e"
      },
      "outputs": [],
      "source": [
        "#The head() method returns a specified number of rows from the top\n",
        "df.head(2) #return the first 2 rows (if no arguments are given, the function returns the first 5 rows)"
      ]
    },
    {
      "cell_type": "code",
      "source": [
        "help(df.head)"
      ],
      "metadata": {
        "collapsed": true,
        "id": "8HPhyxSWrXiK"
      },
      "id": "8HPhyxSWrXiK",
      "execution_count": null,
      "outputs": []
    },
    {
      "cell_type": "markdown",
      "source": [
        "A useful bit of method is the `dataframe_name.info()`  which displays information about the dataframe, including the number of rows and columns, the data types of the columns, the number of non-null values in each column, and the amount of memory used by the dataframe."
      ],
      "metadata": {
        "id": "JlN93eOTsZCZ"
      },
      "id": "JlN93eOTsZCZ"
    },
    {
      "cell_type": "code",
      "execution_count": null,
      "id": "7527dff8",
      "metadata": {
        "id": "7527dff8"
      },
      "outputs": [],
      "source": [
        "df.info()"
      ]
    },
    {
      "cell_type": "code",
      "execution_count": null,
      "id": "79333b4f",
      "metadata": {
        "id": "79333b4f"
      },
      "outputs": [],
      "source": [
        "#This is a very handy method that will automaticly do some descriptive statistics on the columns\n",
        "df.describe()\n"
      ]
    },
    {
      "cell_type": "markdown",
      "id": "8b0f4936",
      "metadata": {
        "id": "8b0f4936"
      },
      "source": []
    },
    {
      "cell_type": "code",
      "execution_count": null,
      "id": "f4e824cb",
      "metadata": {
        "id": "f4e824cb"
      },
      "outputs": [],
      "source": [
        "# Add a new column to our df dataframe called \"Species\" and assign \"mouse\" as its values\n",
        "df[\"Species\"] = \"mouse\"\n",
        "df[\"Age\"] = [38, 42, 39, 23]\n",
        "\n",
        "df\n"
      ]
    },
    {
      "cell_type": "markdown",
      "id": "a3bcde44",
      "metadata": {
        "id": "a3bcde44"
      },
      "source": [
        "#Creating and saving files:\n",
        "\n",
        "Below we generate a tiny CSV and save it to Colab's files\n"
      ]
    },
    {
      "cell_type": "code",
      "execution_count": null,
      "id": "142a2ff9",
      "metadata": {
        "id": "142a2ff9",
        "collapsed": true
      },
      "outputs": [],
      "source": [
        "# Write a tiny CSV (self-contained demo)\n",
        "demo = pd.DataFrame({\n",
        "    \"sample\": [\"s1\",\"s2\",\"s3\",\"s4\"],\n",
        "    \"GAD\": [12.3, 10.1, 13.0, 11.2],\n",
        "    \"CaM\": [8.7, 9.2, 7.9, 8.8],\n",
        "    \"cell_type\": [\"FS\",\"FS\",\"PC\",\"PC\"]\n",
        "})\n",
        "\n",
        "#Lets save it\n",
        "demo_path = \"demo_expr.csv\"  #set a path to where we want the file to be saved\n",
        "                             #if we don't sepcify the path further than the desired filename\n",
        "                             #it will be saved to the current directory\n",
        "demo.to_csv(demo_path, index=False) #save it as a csv file to the specified path\n",
        "demo_path                           #the index won't be saved as a separate column\n",
        "\n"
      ]
    },
    {
      "cell_type": "code",
      "source": [
        "# Now read it back\n",
        "our_demo = pd.read_csv(demo_path)  #we read our csv as a pandas dataframe\n",
        "our_demo.head()\n",
        "\n",
        "#Look at what happens if you save it with (index=True)\n"
      ],
      "metadata": {
        "id": "GOZd_vgs_F-g"
      },
      "id": "GOZd_vgs_F-g",
      "execution_count": null,
      "outputs": []
    },
    {
      "cell_type": "code",
      "execution_count": null,
      "id": "1323bef4",
      "metadata": {
        "id": "1323bef4"
      },
      "outputs": [],
      "source": [
        "# You can viev columns by addressing their lables\n",
        "our_demo[[\"sample\",\"cell_type\"]].head()\n"
      ]
    },
    {
      "cell_type": "code",
      "execution_count": null,
      "id": "636079e3",
      "metadata": {
        "id": "636079e3"
      },
      "outputs": [],
      "source": [
        "# You can use .iloc for positional row indexing\n",
        "our_demo.iloc[1:3]\n"
      ]
    },
    {
      "cell_type": "code",
      "execution_count": null,
      "id": "ebf44a3e",
      "metadata": {
        "id": "ebf44a3e"
      },
      "outputs": [],
      "source": [
        "# You can set a column as an index (instead of row number)\n",
        "sindex_demo = our_demo.set_index(\"sample\")\n",
        "sindex_demo.loc[\"s2\":\"s3\"]  #you can use index \"names\" to find values\n",
        "                            #note, that here we need to use .loc (locational indexing)\n"
      ]
    },
    {
      "cell_type": "code",
      "execution_count": null,
      "id": "011d712d",
      "metadata": {
        "id": "011d712d"
      },
      "outputs": [],
      "source": [
        "# You can select columns and rows in one step\n",
        "sindex_demo.loc[[\"s1\",\"s4\"], [\"CaM\",\"cell_type\"]]\n"
      ]
    },
    {
      "cell_type": "markdown",
      "id": "e19ddd71",
      "metadata": {
        "id": "e19ddd71"
      },
      "source": [
        "#Filtering values\n",
        "Similarly to numpy we can use boolean masks to select and keep only rows of interest.\n"
      ]
    },
    {
      "cell_type": "code",
      "execution_count": null,
      "id": "622a313c",
      "metadata": {
        "id": "622a313c"
      },
      "outputs": [],
      "source": [
        "# Keep rows where GAD > 11\n",
        "mask = sindex_demo[\"GAD\"] > 11\n",
        "sindex_demo[mask]\n"
      ]
    },
    {
      "cell_type": "code",
      "execution_count": null,
      "id": "aa456356",
      "metadata": {
        "id": "aa456356"
      },
      "outputs": [],
      "source": [
        "# Multiple conditions: (& for AND, | for OR)\n",
        "sindex_demo[(sindex_demo[\"GAD\"] > 11) & (sindex_demo[\"cell_type\"] == \"PC\")]\n"
      ]
    },
    {
      "cell_type": "code",
      "execution_count": null,
      "id": "e8d2a838",
      "metadata": {
        "id": "e8d2a838"
      },
      "outputs": [],
      "source": [
        "# TODO: Select rows where GAD is between 8 and 9 (inclusive).\n",
        "# help: df[(df[\"\"] >= 8) & (df2[\"\"] <= 9)]\n"
      ]
    },
    {
      "cell_type": "markdown",
      "id": "56f1b1b8",
      "metadata": {
        "id": "56f1b1b8"
      },
      "source": [
        "#Missing values (NaN)\n",
        "\n",
        "pandas represents missing data as **NaN**. There are a few methods that help deal with them.\n",
        "- `isna()` creates a bolean mask (True where the value is NA\\\n",
        "- `fillna()` replaces the missing (NA) value (in acopy not the original DataFrame)\\\n",
        "- `dropna()` removes missing rows and columns with missing data\n"
      ]
    },
    {
      "cell_type": "code",
      "execution_count": null,
      "id": "572e841f",
      "metadata": {
        "id": "572e841f"
      },
      "outputs": [],
      "source": [
        "# Create a small table with NaNs\n",
        "incomplete_df = pd.DataFrame({\n",
        "    \"a\": [1.0, np.nan, 3.0],\n",
        "    \"b\": [np.nan, 5.0, 6.0],\n",
        "    \"c\": [\"x\", \"y\", None]\n",
        "})\n",
        "incomplete_df\n"
      ]
    },
    {
      "cell_type": "code",
      "execution_count": null,
      "id": "3a0a91e8",
      "metadata": {
        "id": "3a0a91e8"
      },
      "outputs": [],
      "source": [
        "incomplete_df.isna()"
      ]
    },
    {
      "cell_type": "code",
      "execution_count": null,
      "id": "9a45a981",
      "metadata": {
        "id": "9a45a981"
      },
      "outputs": [],
      "source": [
        "# Fill numeric NaNs with column means\n",
        "\n",
        "ic_df_filled = incomplete_df.copy()   #create a copy of incomplete_df which we are going to fill\n",
        "\n",
        "# the values in column \"a\" in our newly created copy : ic_df_filled[\"a\"]\n",
        "# are going to be: =\n",
        "# the same values as in our original dataframe: incomplete_df[\"a\"]\n",
        "# but with the missing values replaced: .fillna()\n",
        "# with the average of the values in col a: incomplete_df[\"a\"].mean()\n",
        "#...\n",
        "ic_df_filled[\"a\"] = incomplete_df[\"a\"].fillna(incomplete_df[\"a\"].mean())\n",
        "ic_df_filled[\"b\"] = incomplete_df[\"b\"].fillna(incomplete_df[\"b\"].mean())\n",
        "ic_df_filled[\"c\"] = incomplete_df[\"c\"].fillna(\"missing\")\n",
        "ic_df_filled\n"
      ]
    },
    {
      "cell_type": "code",
      "execution_count": null,
      "id": "f7cb1801",
      "metadata": {
        "id": "f7cb1801"
      },
      "outputs": [],
      "source": [
        "# Drop rows in incomplete_df and ic_df_filled that contain any NaN. How many rows remain?\n",
        "incomplete_df_dropped = incomplete_df.dropna()\n",
        "print(len(incomplete_df_dropped))\n",
        "\n",
        "ic_df_filled_dropped = ic_df_filled.dropna()\n",
        "print(len(ic_df_filled_dropped))"
      ]
    },
    {
      "cell_type": "markdown",
      "source": [
        "**Aggregations** in pandas are functions that reduce many values to one summary value per a column, row or group.\\\n",
        "Here are a few examples:\n",
        "\n",
        "- count() – number of (non-missing) values.\n",
        "\n",
        "- sum() – total of values.\n",
        "\n",
        "- mean() – arithmetic average.\n",
        "\n",
        "- median() – middle value (50th percentile).\n",
        "\n",
        "- min() / max() – smallest / largest value.\n",
        "\n",
        "- std() / var() – standard deviation / variance (spread).\n",
        "\n",
        "- nunique() – number of unique values.\n",
        "\n",
        "- first() / last() – first / last non-missing entry.\n",
        "\n",
        "- describe() – quick summary (count, mean, std, min, quartiles, max)."
      ],
      "metadata": {
        "id": "8lGTkQYTLYOw"
      },
      "id": "8lGTkQYTLYOw"
    },
    {
      "cell_type": "code",
      "execution_count": null,
      "id": "232b3fdd",
      "metadata": {
        "id": "232b3fdd"
      },
      "outputs": [],
      "source": [
        "# Column-wise aggregations\n",
        "print(\"mean GAD expression:\",our_demo[\"GAD\"].mean())\n",
        "our_demo[[\"GAD\",\"CaM\"]].std()\n"
      ]
    },
    {
      "cell_type": "markdown",
      "id": "2faf02d6",
      "metadata": {
        "id": "2faf02d6"
      },
      "source": [
        "\n",
        "With`groupby` you can use one column's values as a category and do statistics on all values corresponding to a group.\n",
        "\n",
        "\n"
      ]
    },
    {
      "cell_type": "code",
      "execution_count": null,
      "id": "e91e45d6",
      "metadata": {
        "id": "e91e45d6"
      },
      "outputs": [],
      "source": [
        "# Group by cell_type and compute mean per group\n",
        "group_means = our_demo.groupby(\"cell_type\")[[\"GAD\",\"CaM\"]].mean()\n",
        "\n",
        "print(type(group_means)) #the above operation created a dataframe with the mean values of the two celltype\n",
        "\n",
        "group_means\n"
      ]
    },
    {
      "cell_type": "markdown",
      "id": "16d5e2b4",
      "metadata": {
        "id": "16d5e2b4"
      },
      "source": [
        "#Sorting by values"
      ]
    },
    {
      "cell_type": "code",
      "source": [
        "#here we going to sort or dataframe, so the values of GAD will be in descending order\n",
        "\n",
        "our_demo.sort_values(by=[\"GAD\"], ascending=[False])\n"
      ],
      "metadata": {
        "collapsed": true,
        "id": "obNxh-KDN4z7"
      },
      "id": "obNxh-KDN4z7",
      "execution_count": null,
      "outputs": []
    },
    {
      "cell_type": "code",
      "source": [
        "# We can easily sort by two or more columns\n",
        "our_demo.sort_values(by=[\"GAD\",\"CaM\"], ascending=[False, True])"
      ],
      "metadata": {
        "id": "XruPWOKlSwLx"
      },
      "id": "XruPWOKlSwLx",
      "execution_count": null,
      "outputs": []
    },
    {
      "cell_type": "code",
      "source": [
        "our_demo2 = our_demo.loc[1,\"CaM\"] = 6.0     #here the second value of the CaM column is changed\n",
        "                                #so we can see waht happens if the 2 sorting doesn't align\n",
        "our_demo2"
      ],
      "metadata": {
        "collapsed": true,
        "id": "NbNf--t0N5In"
      },
      "id": "NbNf--t0N5In",
      "execution_count": null,
      "outputs": []
    },
    {
      "cell_type": "code",
      "execution_count": null,
      "id": "ff1893e7",
      "metadata": {
        "id": "ff1893e7"
      },
      "outputs": [],
      "source": [
        "# Sort rows by GAD descending, then by CaM ascending order\n",
        "our_demo.sort_values(by=[\"GAD\",\"CaM\"], ascending=[False, True])\n",
        "\n",
        "#pandas will keep the corresponding values (values in the same row) together\n",
        "#if the to sorting contradicts each other (like the smallest GAD value is not the biggest CaM value)\n",
        "#the sorting (rearranging of rows) will happen based on the first set sorting criteria (now: GAD descending)\n",
        "#and the sorting defined later will decide the order if there is a tie between the values of the first sorting criteria\n"
      ]
    },
    {
      "cell_type": "markdown",
      "id": "07598acf",
      "metadata": {
        "id": "07598acf"
      },
      "source": [
        "Pandas integrates with matplotlib. Here, we see some quick examples of plotting."
      ]
    },
    {
      "cell_type": "code",
      "execution_count": null,
      "id": "31a4d343",
      "metadata": {
        "id": "31a4d343"
      },
      "outputs": [],
      "source": [
        "plt.figure()\n",
        "plt.bar(our_demo[\"sample\"], our_demo[\"CaM\"])\n",
        "plt.xlabel(\"sample\"); plt.ylabel(\"CaM expression\")\n",
        "plt.title(\"CaM expression per sample\")\n",
        "plt.show()\n"
      ]
    },
    {
      "cell_type": "code",
      "execution_count": null,
      "id": "58b9cce3",
      "metadata": {
        "id": "58b9cce3"
      },
      "outputs": [],
      "source": [
        "# Bar plot of mean GAD by cell_type\n",
        "means = our_demo.groupby(\"cell_type\")[\"GAD\"].mean()\n",
        "plt.figure()\n",
        "plt.bar(means.index, means.values)\n",
        "plt.xlabel(\"cell_type\"); plt.ylabel(\"mean GAD\"); plt.title(\"Mean GAD per cell_type\")\n",
        "plt.show()\n"
      ]
    },
    {
      "cell_type": "markdown",
      "source": [
        "You’ll see many more pandas functions in the next lesson. In the meantime, feel free to experiment with the examples here and in the pandas cheat sheet."
      ],
      "metadata": {
        "id": "3Fj0XnGZK01U"
      },
      "id": "3Fj0XnGZK01U"
    },
    {
      "cell_type": "markdown",
      "source": [
        "Documentation:\n",
        "https://pandas.pydata.org/docs/"
      ],
      "metadata": {
        "id": "w9p_jRr-LYY6"
      },
      "id": "w9p_jRr-LYY6"
    }
  ],
  "metadata": {
    "colab": {
      "provenance": [],
      "include_colab_link": true
    },
    "language_info": {
      "name": "python"
    },
    "kernelspec": {
      "name": "python3",
      "display_name": "Python 3"
    }
  },
  "nbformat": 4,
  "nbformat_minor": 5
}