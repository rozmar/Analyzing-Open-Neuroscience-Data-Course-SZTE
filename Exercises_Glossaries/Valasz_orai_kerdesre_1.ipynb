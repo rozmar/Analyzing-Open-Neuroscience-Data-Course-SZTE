{
  "nbformat": 4,
  "nbformat_minor": 0,
  "metadata": {
    "colab": {
      "provenance": []
    },
    "kernelspec": {
      "name": "python3",
      "display_name": "Python 3"
    },
    "language_info": {
      "name": "python"
    }
  },
  "cells": [
    {
      "cell_type": "markdown",
      "source": [
        "#Comments and multi-line strings\n",
        "(Ez egy rövid magyarázat egy óra végén felmerülő kérdésre, a két használt kommenteléssel kapcsolatban.)\n",
        "\n",
        "**#** is the \"real\" annotation for making comments, these will never appear in the output. These are not accesible and executable for python.\\\n",
        "**\"\"\"**(triple quotation marks) are used to create multiple line strings. These can be \"readed\" and executed by pyton.\n"
      ],
      "metadata": {
        "id": "fFuC47mglBux"
      }
    },
    {
      "cell_type": "code",
      "execution_count": null,
      "metadata": {
        "id": "Y9JDAPy5k-dT"
      },
      "outputs": [],
      "source": [
        "# This is a comment\n",
        "# It will not be shown in output\n",
        "# because pyton can't access and execute it"
      ]
    },
    {
      "cell_type": "code",
      "source": [
        "a_comment = # this is a real comment\n",
        "print(a_comment)   # you will get an error because python \"can't read\" it"
      ],
      "metadata": {
        "id": "vtidXaBtqK0Q"
      },
      "execution_count": null,
      "outputs": []
    },
    {
      "cell_type": "code",
      "source": [
        "\"\"\"This is treated as a string\"\"\"\n",
        "print(type(\"\"\"This is treated as a string\"\"\"))"
      ],
      "metadata": {
        "id": "LJEwas44pkr7"
      },
      "execution_count": null,
      "outputs": []
    },
    {
      "cell_type": "markdown",
      "source": [
        "Google Colab (and other IDEs) have what's called a **Last Expression Display**, so the last expression is automatically evaulated and executed."
      ],
      "metadata": {
        "id": "slPnyMiHlAQs"
      }
    },
    {
      "cell_type": "code",
      "source": [
        "# \"Last expression display\" in GoogleColab\n",
        "3 + 3\n",
        "5 + 5\n",
        "100 * 100  # Colab automatically  evaulates and displays the result of the last  expression (but not things before that)\n",
        "           # even if you don't use print()\n"
      ],
      "metadata": {
        "id": "-3-UoczOmKIV"
      },
      "execution_count": null,
      "outputs": []
    },
    {
      "cell_type": "code",
      "source": [
        "print(3 + 3)\n",
        "print(5 + 5)\n",
        "print(100 * 100)"
      ],
      "metadata": {
        "id": "6JTehuPRmzaf"
      },
      "execution_count": null,
      "outputs": []
    },
    {
      "cell_type": "code",
      "source": [
        "\"This is a string\"\n",
        "\"This is a string too\"\n",
        "\"This is a string as well\"\n",
        "\n",
        "\n"
      ],
      "metadata": {
        "id": "G2FN4SNUm-2d"
      },
      "execution_count": null,
      "outputs": []
    },
    {
      "cell_type": "code",
      "source": [
        "\"This is a string\"\n",
        "\"\"\"This is a multi-line string.\n",
        "It's not a comment.\n",
        "It's just the last thing in this cell.\"\"\"\n"
      ],
      "metadata": {
        "id": "KIMRRE0bpDjd"
      },
      "execution_count": null,
      "outputs": []
    },
    {
      "cell_type": "markdown",
      "source": [
        "Here is an example of how \"\"\" notes can be used in pyton.\\\n",
        "We will later lear about functions and how to define them, but now it's enough to know that appropriately placed \"\"\" coments be used to describe what certain functions do. With help() you can read these comments."
      ],
      "metadata": {
        "id": "tJfNP41oufg6"
      }
    },
    {
      "cell_type": "code",
      "source": [
        "# Ez a meghatározása egy új általunk létrehozni kívánt funkciónak, (ahol leírjuk, hogy mit csináljon)\n",
        "# Majd később tanulunk róla, most csak az első sor után lévő \"\"\" comment a lényeges\n",
        "# a \"\"\"-k között lvő rész nem befolyásolja a kód működését, de \"hozzá van kapcsolva\" ...\n",
        "# .. a funkcióhoz (add_two_numbers) és később elérjük a help(add_two_numbers) paranccsal\n",
        "\n",
        "def add_two_numbers(a, b):\n",
        "    \"\"\"\n",
        "    Add two numbers together.\n",
        "\n",
        "    Parameters:\n",
        "    a (int or float): The first number.\n",
        "    b (int or float): The second number.\n",
        "\n",
        "    Returns:\n",
        "    int or float: The sum of a and b.\n",
        "    \"\"\"\n",
        "    return a + b\n"
      ],
      "metadata": {
        "id": "ebOTdRZswEJL"
      },
      "execution_count": null,
      "outputs": []
    },
    {
      "cell_type": "code",
      "source": [
        "help(add_two_numbers)  # visszakapjuk a szöveget a \"\"\"-k között"
      ],
      "metadata": {
        "id": "udwzGUEywmKj"
      },
      "execution_count": null,
      "outputs": []
    }
  ]
}