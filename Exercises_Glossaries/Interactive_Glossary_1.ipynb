{
  "nbformat": 4,
  "nbformat_minor": 0,
  "metadata": {
    "colab": {
      "provenance": [],
      "authorship_tag": "ABX9TyPsFBhEfsZ561Nrv9mHJ3uh",
      "include_colab_link": true
    },
    "kernelspec": {
      "name": "python3",
      "display_name": "Python 3"
    },
    "language_info": {
      "name": "python"
    }
  },
  "cells": [
    {
      "cell_type": "markdown",
      "metadata": {
        "id": "view-in-github",
        "colab_type": "text"
      },
      "source": [
        "<a href=\"https://colab.research.google.com/github/rozmar/Analyzing-Open-Neuroscience-Data-Course-SZTE/blob/main/Exercises_Glossaries/Interactive_Glossary_1.ipynb\" target=\"_parent\"><img src=\"https://colab.research.google.com/assets/colab-badge.svg\" alt=\"Open In Colab\"/></a>"
      ]
    },
    {
      "cell_type": "markdown",
      "source": [
        "Sziasztok! Hello!\\\n",
        "Első akadály leküzdve, bejutottatok egy GoogleColab Notebookba.\\\n",
        "Ilyen Notebookokban fogunk órákon haladni illetve a házi feladatok is itt lesznek. Ezeknek a linkjei fent lesznek a Coospace kurzus kurzusfórumán, és a https://colab.research.google.com/ oldalon tudjátok megnyitni ezeket órán és otthonról is (File -> open notebooks -> GitHub -> \"bemásolt coospaces link\").\\\n",
        "A legyszerűbb módja, hogy elmetsétek a változtatásokat ha beléptek a Google accountotokba és elmentitek a Driveotokba (File -> Save Copy to Drive).\\\n",
        "Vagy ha nem tudjátok feltörni a Google felhasználótokat, akkor letölthetitek (File -> Download -> Download.ipynb)."
      ],
      "metadata": {
        "id": "exnx_WPk3zwJ"
      }
    },
    {
      "cell_type": "markdown",
      "source": [
        "A GoogleColab egy felhőben futó integrált fejlesztői környezet (integrated development environment, IDE), ami gyakorlatban annyit tesz, hogy egy helyen írhatod és futtathatod a kódodat különböző segítő eszközökkel (különböző kódelemek színezésétől AI-os hibakeresőig) és le sem kell hozzá töltened semmit.\\\n",
        "Egy notebookban (mint amit most nézel) szöveg és kód blokkokal talákozhatsz, amiket te is tudsz szerkeszteni és/vagy újakat hozzáadni a meglévőkhöz (+Code, +Text).\n"
      ],
      "metadata": {
        "id": "E12uxb4f924r"
      }
    },
    {
      "cell_type": "code",
      "source": [
        "# a cellákban lévő kódot le tudod futattni a nyílra kattintva vagy Shift+ Enterrel\n",
        "print(\"Ki itt belépsz, hagyj fel minden reménnyel!\")\n"
      ],
      "metadata": {
        "id": "27S6y5EUDKMS"
      },
      "execution_count": null,
      "outputs": []
    },
    {
      "cell_type": "code",
      "source": [
        "Dante_koszon = \"Ki itt belépsz, hagyj fel minden reménnyel!\"\n",
        "Caesar_elkoszon = \"Te is, fiam, Brutus?\"\n",
        "\n",
        "print(Dante_koszon)"
      ],
      "metadata": {
        "id": "62irl6_sFwtD"
      },
      "execution_count": null,
      "outputs": []
    },
    {
      "cell_type": "markdown",
      "source": [
        "A notebookban lévő cellákat le lehet futtatni egyesével vagy a több cellával együtt. Egy cellát futtatni a leggyorsabb, de előfordulhat (főleg ahogy haladunk előre komplexebb feladatok felé), hogy a kód egy része egy korábbi cellában van, ilyenkor a leghasznosabb ha beállítjuk, hogy: Commands->Run cells before the current (Ctrl+F8)."
      ],
      "metadata": {
        "id": "8GFxdNkHGxue"
      }
    },
    {
      "cell_type": "code",
      "source": [
        "print(Caesar_elkoszon)"
      ],
      "metadata": {
        "id": "KGPfifERGmAM"
      },
      "execution_count": null,
      "outputs": []
    },
    {
      "cell_type": "markdown",
      "source": [
        "A következőkben néhány alap pythonos fogalmat láthattok rövid példákkal és feladatokkal. Ezek, ahogy az óra anyaga is, nagyrészt angolul vannak. A python nyelv nagyon erősen az angolra épül, a python kulcsszavai (reserved words) is angulul vannak vagy abból erednek (és szerencsére általában nagyon intuitíven azt is jelentik, amire számítanál)."
      ],
      "metadata": {
        "id": "VhJkOBQ0IrWl"
      }
    },
    {
      "cell_type": "markdown",
      "source": [
        "Assignment:\\\n",
        "A statement that assigns a value to a variable. Assigments are made using the \"=\" sign."
      ],
      "metadata": {
        "id": "OBTXxQrCgVg5"
      }
    },
    {
      "cell_type": "markdown",
      "source": [
        "Value:\\\n",
        "One of the basic units of data, like a number or string (*szöveg*), that a program\n",
        "manipulates."
      ],
      "metadata": {
        "id": "pXsfanWNi_Tl"
      }
    },
    {
      "cell_type": "markdown",
      "source": [
        "Variable:\\\n",
        "A name that refers to a value."
      ],
      "metadata": {
        "id": "FTZcUhUzjb4r"
      }
    },
    {
      "cell_type": "code",
      "source": [
        "variable = \"value\"        # This line is an assigment. The variable is on the left side of the \"=\" and the value is on the right\n",
        "print(variable)"
      ],
      "metadata": {
        "id": "0FrmgioZNHQx"
      },
      "execution_count": null,
      "outputs": []
    },
    {
      "cell_type": "code",
      "execution_count": null,
      "metadata": {
        "id": "ApYVqYzXfLCF"
      },
      "outputs": [],
      "source": [
        "name = 'Sherlock Holmes'                                 #logical variable names help you (and others reading your code)\n",
        "birthdate = '1805.01.06.'                                 #to better understand and see through the code\n",
        "\n",
        "birthtown = 'The cat accidentaly ate the watermelon.'     #but don't forget that Python does not \"understand\" variable names\n",
        "\n",
        "\n",
        "print(\"Name:\", name)\n",
        "print(\"Birthdate:\", birthdate)\n",
        "print(\"Birthtown:\", birthtown)"
      ]
    },
    {
      "cell_type": "markdown",
      "source": [
        "Operators\\\n",
        "Operators are used to perform operations on variables and values.\n"
      ],
      "metadata": {
        "id": "S-1ZyN6HNPXv"
      }
    },
    {
      "cell_type": "code",
      "source": [
        "a = 1 + 3 - 2       # addition / subtraction\n",
        "b = 10 * 4 / 2      # multiplication / division\n",
        "c = 10**3           # exponent\n",
        "d = 10 % 3          # modulo (what's the reminder of 10 divided by 3)\n",
        "e = 1e2 * (3)       # scientific notation, parentheses\n",
        "f = 5//2            # integer division (dividing two integers and getting the quotient without any fractional part)\n",
        "print(\"a=\",a,\"b=\", b, \"c=\",c,\"d=\", d,\"e=\", e,\"f=\", f)"
      ],
      "metadata": {
        "id": "lpHU_hrXN9Jp"
      },
      "execution_count": null,
      "outputs": []
    },
    {
      "cell_type": "markdown",
      "source": [
        "As you saw we use \"=\" to a assigne values to variables. To signal equality python uses \"==\"."
      ],
      "metadata": {
        "id": "WNNX4hSUTkmm"
      }
    },
    {
      "cell_type": "code",
      "source": [
        "# assigement\n",
        "x = 5            # x now holds the value 5\n",
        "y = 3 + 1        # y becomes 4\n",
        "print(x)\n",
        "print(y)\n",
        "\n",
        "# == compares values. It's a bit like python was asking, 'Is the left side equal to the right'?\n",
        "print(x == 5)    # True (because 5 == 5)\n",
        "print(x == y)    # False\n"
      ],
      "metadata": {
        "id": "GWSs2_w9SnGQ"
      },
      "execution_count": null,
      "outputs": []
    },
    {
      "cell_type": "code",
      "source": [
        "# Python follows the order of operations the same way learned in math class (PEMDAS:Parentheses, Exponents, Multiplication, Division, Addition, Subtraction)\n",
        "\n",
        "print(1 + 2 * 3)\n",
        "print((1 + 2) * 3)"
      ],
      "metadata": {
        "id": "MnoICiklPp_J"
      },
      "execution_count": null,
      "outputs": []
    },
    {
      "cell_type": "markdown",
      "source": [
        "Comment:\\\n",
        "Information in a program that is meant for other programmers (or\n",
        "anyone reading the source code) and has no effect on the execution of the\n",
        "program."
      ],
      "metadata": {
        "id": "-uu_TDjnh3wm"
      }
    },
    {
      "cell_type": "code",
      "source": [
        "# You can use \"#\" to make shorter comments, or to stop lines from being exicuted (e.g. for debugging)\n",
        "\n",
        "# print(1)\n",
        "\n",
        "\"\"\" You can use triple quotes to make longer comments,\n",
        "or to stop bigger chunks of code from being executed\n",
        "\n",
        "print(2)\n",
        "print(3)\"\"\"\n",
        "\n",
        "print(4)"
      ],
      "metadata": {
        "id": "KxyJIsEqhzvY"
      },
      "execution_count": null,
      "outputs": []
    },
    {
      "cell_type": "markdown",
      "source": [
        "Object:\\\n",
        "In python everything is an object. An object is an entity that contains data along with associated metadata and/or functionality. In Python everything is an object, which means every entity has some metadata (called attributes) and associated functionality (called methods)."
      ],
      "metadata": {
        "id": "6iSeINP1hpGS"
      }
    },
    {
      "cell_type": "markdown",
      "source": [
        "Type:\\\n",
        "In python everything is an object and every object has a type (or data type). These types define what kind of data you're working with and what operations you can perform on it.\\\n",
        "Here is a non-exhaustive list:\\\n",
        "\n",
        "Basic types:\n",
        "- int: integer (whole numbers)\n",
        "- float: decimal number\n",
        "- str: string\n",
        "- bool: boolean; True or False value\n",
        "\n",
        "Sequence types:\n",
        "- list: ordered and changeable sequences\n",
        "- tuple: ordered changable sequences\n",
        "- range: sequence of numbers\n",
        "- dict: key-value pairs\n",
        "\n",
        "NoneType : represents \"nothing\" or \"empty\"\n",
        "\n",
        "Let's see some types in their natural enviorment:\n",
        "\n"
      ],
      "metadata": {
        "id": "Bw5_noeqjpCy"
      }
    },
    {
      "cell_type": "code",
      "source": [
        "age_with_numbers = 1\n",
        "age_with_letters = 'egy'\n",
        "age_with_numbers_as_string = '1'  #minden ami '' vagy \"\" \" között van szövegként (string) lesz kezelve\n",
        "age_as_mothers_count_it = 0.879\n",
        "\n",
        "print(type(age_with_numbers))\n",
        "print(type(age_with_letters))\n",
        "print(type(age_with_numbers_as_string))\n",
        "print(type(age_as_mothers_count_it))"
      ],
      "metadata": {
        "id": "kWcirQL6jrNv"
      },
      "execution_count": null,
      "outputs": []
    },
    {
      "cell_type": "code",
      "source": [
        "int_int = 1 + 1\n",
        "print(int_int)\n",
        "print('The type of added integers is an', type(int_int),'.')\n",
        "\n",
        "int_float = 1 + 1.0\n",
        "print(int_float)\n",
        "print('The type of an int added to a float is a ', type(int_float),'.')\n",
        "\n",
        "float_float = 1.0 + 1.0\n",
        "print(float_float)\n",
        "print('The type of added floats is a ', type(float_float),'.')\n",
        "\n",
        "str_str = '1' + '1'\n",
        "print(str_str)\n",
        "print('The type of added strings is a ', type(str_str),'.')\n",
        "\n",
        "str_int = '1' + '1'\n",
        "print(str_int)\n",
        "print('The type of a string added to and an int is a ', type(str_int),'.')"
      ],
      "metadata": {
        "id": "WgkUw4PnDBIR"
      },
      "execution_count": null,
      "outputs": []
    },
    {
      "cell_type": "code",
      "source": [
        "your_number = input('Enter a number:',)\n",
        "print(your_number)\n",
        "print(type(your_number))"
      ],
      "metadata": {
        "id": "NWjo-K1oFmjB"
      },
      "execution_count": null,
      "outputs": []
    },
    {
      "cell_type": "markdown",
      "source": [
        "Inputs always return a string, but you can easily convert them."
      ],
      "metadata": {
        "id": "2iybT4B1HD2O"
      }
    },
    {
      "cell_type": "code",
      "source": [
        "your_number = input('Enter a number:',)\n",
        "print(\"before:\", type(your_number))\n",
        "\n",
        "your_number = int(your_number)\n",
        "print(your_number)\n",
        "print(\"after:\", type(your_number))"
      ],
      "metadata": {
        "id": "T_vyW__GHO35"
      },
      "execution_count": null,
      "outputs": []
    },
    {
      "cell_type": "markdown",
      "source": [
        "#(), [], {}\n",
        "You have seen a lot of () so far, and you'll soon be introduced to [] and {}, so let' have a quick word about parentheses:\\\n",
        "\n",
        "**()** is used to:\\\n",
        "- to give parameters to functions and methods, e.g.:\\\n",
        " `print(\"parameter to be printed\")`\n",
        "\n",
        "- grouping operators, e.g.:\\\n",
        " `x = (1 + 2) * 10`\n",
        "\n",
        "- defining tuples (see later), e.g.:\\\n",
        " `coordinates = (3, 7.2) `\n",
        "\n",
        "**[]** is used to:\n",
        "- create lists, e.g.:\\\n",
        " `cartoon_dogs = [\"Scooby\", \"Snoopy\", \"Clifford\"]`\n",
        "\n",
        "- indexing (and sicing):\\\n",
        " `cartoon_dogs[1] # get the 2nd element of the list`\n",
        "\n",
        "\n",
        "**{}** is used to:\n",
        "- create dictionaries, e.g.:\\\n",
        "`student = {\"name\" : \"Jhonn\", \"age\": 20}`\n",
        "\n"
      ],
      "metadata": {
        "id": "ckqtQQhzgOLV"
      }
    },
    {
      "cell_type": "code",
      "source": [
        "# For lists [] are used and it's elements are separated by commas \",\"\n",
        "\n",
        "shopping_list = ['banana', 'toothpaste', 'bread']\n",
        "print(shopping_list)\n",
        "print(\"The type of shopping_list is:\", {type(shopping_list)})\n",
        "print(shopping_list[0])       #get the first element of shopping_list (counting elements start from 0)\n"
      ],
      "metadata": {
        "id": "uUBHRfh0QDz2"
      },
      "execution_count": null,
      "outputs": []
    },
    {
      "cell_type": "code",
      "source": [
        "print(shopping_list)          #lists are mutable (you can change their elements and their order)\n",
        "shopping_list.append('milk')\n",
        "print(shopping_list)"
      ],
      "metadata": {
        "id": "-Ixn2SlQQSMK"
      },
      "execution_count": null,
      "outputs": []
    },
    {
      "cell_type": "markdown",
      "source": [
        "A Boolean value is either True or False. It can be used to test conditions, or the \"truth\" of an expression."
      ],
      "metadata": {
        "id": "npKHZ02D0eUo"
      }
    },
    {
      "cell_type": "code",
      "source": [
        "x = 5\n",
        "print(x > 3)      # True\n",
        "print(x == 10)    # False"
      ],
      "metadata": {
        "id": "2jLsHj7rJUO-"
      },
      "execution_count": null,
      "outputs": []
    },
    {
      "cell_type": "code",
      "source": [
        "# Add Pluto to the planets!\n",
        "planets = ['Mercury', 'Venus', 'Earth', 'Mars', 'Jupiter', 'Saturn', 'Uranus', 'Neptune']\n",
        "\n",
        "\n",
        "\n",
        "# Test whether Pluto is in the planets list\n",
        "is_pluto_a_planet = \"Pluto\" in planets\n",
        "\n",
        "# Print result\n",
        "print(\"Pluto is a planet: \", is_pluto_a_planet)\n"
      ],
      "metadata": {
        "id": "zJhb8rw6RYkW"
      },
      "execution_count": null,
      "outputs": []
    },
    {
      "cell_type": "code",
      "source": [
        "skyblue_RGB = sky_blue = (135, 206, 235)  # For tuples () are used\n",
        "                                          # Tuples are great if you want to group related values together (like coordinates, RGB colors, etc.)\n",
        "print(skyblue_RGB)\n",
        "print(type(skyblue_RGB))"
      ],
      "metadata": {
        "id": "pIBn7lJiRIy3"
      },
      "execution_count": null,
      "outputs": []
    },
    {
      "cell_type": "code",
      "source": [
        "first_5_numbers = range(5)             # For ranges \"range\" + () are used\n",
        "print(first_5_numbers)                                     # Note how python starts sequences with 0\n",
        "\n",
        "one_to_five = range(1, 6)\n",
        "print(one_to_five)\n"
      ],
      "metadata": {
        "id": "QLwD1L4-kkCi"
      },
      "execution_count": null,
      "outputs": []
    },
    {
      "cell_type": "code",
      "source": [
        "#You can make lists out of ranges (a lot like how you can make a str into an int)\n",
        "first_5_numbers = range(5)\n",
        "print(first_5_numbers)\n",
        "print(type(first_5_numbers))\n",
        "\n",
        "listified_range = list(first_5_numbers)\n",
        "print(listified_range)\n",
        "print(type(listified_range))\n"
      ],
      "metadata": {
        "id": "L74B_DSL8ytO"
      },
      "execution_count": null,
      "outputs": []
    },
    {
      "cell_type": "markdown",
      "source": [
        "A dictionary is a Python data structure that stores data as key–value pairs.\n",
        "-Keys are unique (like labels or IDs)\n",
        "-Values are data associated with each key\n",
        "-Keys can be strings, numbers, or tuples\n",
        "-Values can be any data type — even lists or other dictionaries"
      ],
      "metadata": {
        "id": "jE0SB6-SVEJG"
      }
    },
    {
      "cell_type": "code",
      "source": [
        "student1 = {\"name\": \"John\", \"age\": 20, \"specification\": \"molecular biology\"}\n",
        "student2 = {\"name\": \"Jane\", \"age\": 21, \"specification\": \"Biochemistry\"}\n",
        "\n",
        "print(student1[\"name\"])\n",
        "print(student2[\"specification\"])"
      ],
      "metadata": {
        "id": "XeTnvYKBIkJQ"
      },
      "execution_count": null,
      "outputs": []
    },
    {
      "cell_type": "code",
      "source": [
        "# You can start new rows after commas to meke the code more readable\n",
        "student1 = {\"name\": \"John\",\n",
        "            \"age\": 20,\n",
        "            \"specification\": \"molecular biology\"}\n",
        "student2 = {\"name\": \"Jane\",\n",
        "            \"age\": 21,\n",
        "            \"specification\": \"Biochemistry\"}\n",
        "\n",
        "print(student1[\"name\"])\n",
        "print(student2[\"specification\"])"
      ],
      "metadata": {
        "id": "lBvN4fhqY6gj"
      },
      "execution_count": null,
      "outputs": []
    }
  ]
}