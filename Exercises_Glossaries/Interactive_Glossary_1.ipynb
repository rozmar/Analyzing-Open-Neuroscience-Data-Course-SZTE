{
  "nbformat": 4,
  "nbformat_minor": 0,
  "metadata": {
    "colab": {
      "provenance": [],
      "authorship_tag": "ABX9TyMHg/aUzogI0HO/yu0/TEN3",
      "include_colab_link": true
    },
    "kernelspec": {
      "name": "python3",
      "display_name": "Python 3"
    },
    "language_info": {
      "name": "python"
    }
  },
  "cells": [
    {
      "cell_type": "markdown",
      "metadata": {
        "id": "view-in-github",
        "colab_type": "text"
      },
      "source": [
        "<a href=\"https://colab.research.google.com/github/rozmar/Analyzing-Open-Neuroscience-Data-Course-SZTE/blob/main/Exercises_Glossaries/Interactive_Glossary_1.ipynb\" target=\"_parent\"><img src=\"https://colab.research.google.com/assets/colab-badge.svg\" alt=\"Open In Colab\"/></a>"
      ]
    },
    {
      "cell_type": "markdown",
      "source": [
        "Sziasztok! Hello!\\\n",
        "Első akadály leküzdve, bejutottatok egy GoogleColab Notebookba.\\\n",
        "Ilyen Notebookokban fogunk órákon haladni és illetve a házi feladoatok is itt lesznek. Ezeknek a linkjei fent lesznek a Coospace kurzus kurzusfórumán, és a https://colab.research.google.com/ oldalon tudjátok megnyitni ezeket órán és otthonról is (File -> open notebooks -> GitHub -> \"bemásolt coospaces link\").\\\n",
        "A legyszerűbb módja, hogy elmetsétek a változtatásokat ha beléptek a Google accountotokba és elmentiteka Driveotokba (File -> Save Copy to Drive).\\\n",
        "Vagy ha nem tudjátok feltörni a Google felhasználótokat, akkor letölthetitek (File -> Download -> Download.ipynb)."
      ],
      "metadata": {
        "id": "exnx_WPk3zwJ"
      }
    },
    {
      "cell_type": "markdown",
      "source": [
        "A GoogleColab egy felhőben futó integrált fejlesztői környezet (integrated development environment, IDE), ami gyakorlatban annyit tesz, hogy egy helyen írhatod és futtathatod a kódodat különböző segtő eszközökkel (különböző kódelemek színezésétől AI-os hibakeresőig) és le sem kell hozzá töltened semmit.\\\n",
        "Egy notebookban (mint amit most nézel) szöveg és kód blokkokal talákozhatsz, amiket te is tudsz szerkeszteni és/vagy újakat hozzáadni a meglévőkhöz (+Code, +Text).\n"
      ],
      "metadata": {
        "id": "E12uxb4f924r"
      }
    },
    {
      "cell_type": "code",
      "source": [
        "# a cellákban lévő kódot le tudod futattni a nyílra kattintva vagy Shift+ Enterrel\n",
        "print(\"Ki itt belépsz, hagyj fel minden reménnyel!\")\n"
      ],
      "metadata": {
        "colab": {
          "base_uri": "https://localhost:8080/"
        },
        "id": "27S6y5EUDKMS",
        "outputId": "2421e27e-223b-4e83-d946-13b69262879f"
      },
      "execution_count": 4,
      "outputs": [
        {
          "output_type": "stream",
          "name": "stdout",
          "text": [
            "Ki itt belépsz, hagyj fel minden reménnyel!\n"
          ]
        }
      ]
    },
    {
      "cell_type": "code",
      "source": [
        "Dante_koszon = \"Ki itt belépsz, hagyj fel minden reménnyel!\"\n",
        "Caesar_elkoszon = \"Te is, fiam, Brutus?\"\n",
        "\n",
        "print(Dante_koszon)"
      ],
      "metadata": {
        "colab": {
          "base_uri": "https://localhost:8080/"
        },
        "id": "62irl6_sFwtD",
        "outputId": "ed7db6a8-2bbc-433d-d4b9-a831407810e3"
      },
      "execution_count": 5,
      "outputs": [
        {
          "output_type": "stream",
          "name": "stdout",
          "text": [
            "Ki itt belépsz, hagyj fel minden reménnyel!\n"
          ]
        }
      ]
    },
    {
      "cell_type": "markdown",
      "source": [
        "A notebookban lévő cellákat le lehet futtatni egyesével vagy a több cellával együtt. Egy cellát futtetni a leggyorsabb, de előfordulhat (főleg ahogy haladunk előre komplexebb feladatok felé), hogy a kód egy része egy korábbi cellában van, ilyenkor a leghasznosabb ha beállítjuk, hogy: Commands->Run cells before the current (Ctrl+F8)."
      ],
      "metadata": {
        "id": "8GFxdNkHGxue"
      }
    },
    {
      "cell_type": "code",
      "source": [
        "print(Caesar_elkoszon)"
      ],
      "metadata": {
        "colab": {
          "base_uri": "https://localhost:8080/"
        },
        "id": "KGPfifERGmAM",
        "outputId": "3b9f3af9-51dd-47cf-c443-676ca1806708"
      },
      "execution_count": 6,
      "outputs": [
        {
          "output_type": "stream",
          "name": "stdout",
          "text": [
            "Te is, fiam, Brutus?\n"
          ]
        }
      ]
    },
    {
      "cell_type": "markdown",
      "source": [
        "A következőkben néhány alap pythonos fogalmat láthattok rövid példákkal és feladatokkal. Ezek, ahogy az óra anyaga is, nagyrészt angolul vannak. A python nyelv nagyon erősen az angolra épül, a python kulcsszavai (reserved words) is angulul vannak vagy abból erednek (és szerencsére általában nagyon intuitíven azt is jelentik, amire számítanál)."
      ],
      "metadata": {
        "id": "VhJkOBQ0IrWl"
      }
    },
    {
      "cell_type": "markdown",
      "source": [
        "Assignment:\\\n",
        "A statement that assigns a value to a variable. Assigments are made using the \"=\" sign."
      ],
      "metadata": {
        "id": "OBTXxQrCgVg5"
      }
    },
    {
      "cell_type": "markdown",
      "source": [
        "Value:\\\n",
        "One of the basic units of data, like a number or string (*szöveg*), that a program\n",
        "manipulates."
      ],
      "metadata": {
        "id": "pXsfanWNi_Tl"
      }
    },
    {
      "cell_type": "markdown",
      "source": [
        "Variable:\\\n",
        "A name that refers to a value."
      ],
      "metadata": {
        "id": "FTZcUhUzjb4r"
      }
    },
    {
      "cell_type": "code",
      "source": [
        "variable = \"value\"        # This line is an assigment. The variable is on the left side of the \"=\" and the value is on the right\n",
        "print(variable)"
      ],
      "metadata": {
        "id": "0FrmgioZNHQx"
      },
      "execution_count": null,
      "outputs": []
    },
    {
      "cell_type": "code",
      "execution_count": 11,
      "metadata": {
        "colab": {
          "base_uri": "https://localhost:8080/"
        },
        "id": "ApYVqYzXfLCF",
        "outputId": "f1dd2c1f-c278-40d3-b8ee-4fc2344b9839"
      },
      "outputs": [
        {
          "output_type": "stream",
          "name": "stdout",
          "text": [
            "Name: Sherlock Holmes\n",
            "Birthdate: 1805.01.06.\n",
            "Birthtown: The cat accidentaly ate the watermelon.\n"
          ]
        }
      ],
      "source": [
        "name = 'Sherlock Holmes'                                 #logical variable names help you (and others reading your code)\n",
        "birthdate = '1805.01.06.'                                 #to better understand and see through the code\n",
        "\n",
        "birthtown = 'The cat accidentaly ate the watermelon.'     #but don't forget that Python does not \"understand\" variable names\n",
        "\n",
        "\n",
        "print(\"Name:\", name)\n",
        "print(\"Birthdate:\", birthdate)\n",
        "print(\"Birthtown:\", birthtown)"
      ]
    },
    {
      "cell_type": "markdown",
      "source": [
        "Comment:\\\n",
        "Information in a program that is meant for other programmers (or\n",
        "anyone reading the source code) and has no effect on the execution of the\n",
        "program."
      ],
      "metadata": {
        "id": "-uu_TDjnh3wm"
      }
    },
    {
      "cell_type": "code",
      "source": [
        "# You can use \"#\" to make shorter comments, or to stop lines from being exicuted (e.g. for debugging)\n",
        "\n",
        "# print(1)\n",
        "\n",
        "\"\"\" You can use triple quotes to make longer comments,\n",
        "or to stop bigger chunks of code from being executed\n",
        "\n",
        "print(2)\n",
        "print(3)\"\"\"\n",
        "\n",
        "print(4)"
      ],
      "metadata": {
        "colab": {
          "base_uri": "https://localhost:8080/"
        },
        "id": "KxyJIsEqhzvY",
        "outputId": "11032669-5ab1-49b4-b1df-d46e7ea1df83"
      },
      "execution_count": null,
      "outputs": [
        {
          "output_type": "stream",
          "name": "stdout",
          "text": [
            "4\n"
          ]
        }
      ]
    },
    {
      "cell_type": "markdown",
      "source": [
        "Object:\\\n",
        "In python everything is an object. An object is an entity that contains data along with associated metadata and/or functionality. In Python everything is an object, which means every entity has some metadata (called attributes) and associated functionality (called methods)."
      ],
      "metadata": {
        "id": "6iSeINP1hpGS"
      }
    },
    {
      "cell_type": "markdown",
      "source": [
        "Type:\\\n",
        "In python everything is an obyect and every object has a type (or data type). These types define what kind of data you're working with and what operations you can perform on it.\\\n",
        "Here is a non-exhaustive list:\\\n",
        "\n",
        "Basic types:\\\n",
        "int: integer (whole numbers)\\\n",
        "float: decimal number\n",
        "str: string\n",
        "bool: boolean; True or False value\n",
        "\n",
        "Sequence types:\\\n",
        "list: ordered and changeable sequences\\\n",
        "tuple: ordered changable sequences\\\n",
        "range: sequence of numbers\\\n",
        "dict: key-value pairs\n",
        "\n",
        "NoneType : represents \"nothing\" or \"empty\"\n",
        "\n",
        "Let's see some types in their natural enviorment:\n",
        "\n"
      ],
      "metadata": {
        "id": "Bw5_noeqjpCy"
      }
    },
    {
      "cell_type": "code",
      "source": [
        "age_with_numbers = 1\n",
        "age_with_letters = 'egy'\n",
        "age_with_numbers_as_string = '1'  #minden ami '' vagy \"\" \" között van szövegként (string) lesz kezelve\n",
        "age_as_mothers_count_it = 0.879\n",
        "\n",
        "print(type(age_with_numbers))\n",
        "print(type(age_with_letters))\n",
        "print(type(age_with_numbers_as_string))\n",
        "print(type(age_as_mothers_count_it))"
      ],
      "metadata": {
        "colab": {
          "base_uri": "https://localhost:8080/"
        },
        "id": "kWcirQL6jrNv",
        "outputId": "6da2d184-6476-4306-d04e-2eeace223d9a"
      },
      "execution_count": 12,
      "outputs": [
        {
          "output_type": "stream",
          "name": "stdout",
          "text": [
            "<class 'int'>\n",
            "<class 'str'>\n",
            "<class 'str'>\n",
            "<class 'float'>\n"
          ]
        }
      ]
    },
    {
      "cell_type": "code",
      "source": [
        "shopping_list = ['banana', 'toothpaste', 'bread'] # For lists [] are used\n",
        "\n",
        "skyblue_RGB = sky_blue = (135, 206, 235)  # For touples () are used\n",
        "                                          # Touples are great if you want to group related values together (like coordinates, RGB colors, etc.)\n",
        "\n",
        "\n",
        "first_5_numbers = range(5)             # For ranges \"range\" + () are used\n",
        "                                      # Note how python starts sequences with 0\n",
        "one_to_five = range(1, 6)\n"
      ],
      "metadata": {
        "id": "QLwD1L4-kkCi"
      },
      "execution_count": null,
      "outputs": []
    },
    {
      "cell_type": "markdown",
      "source": [
        "Bollean with \"==\" is this true\n",
        "keys and values in dicts"
      ],
      "metadata": {
        "id": "npKHZ02D0eUo"
      }
    },
    {
      "cell_type": "markdown",
      "metadata": {
        "id": "bc859dd0"
      },
      "source": [
        "Python's `datetime` module provides classes for working with dates and times. The `datetime` class is commonly used to represent a specific point in time."
      ]
    },
    {
      "cell_type": "code",
      "metadata": {
        "id": "e9dc3be7"
      },
      "source": [
        "from datetime import datetime\n",
        "\n",
        "# Create a datetime object\n",
        "now = datetime.now()\n",
        "print(\"Current date and time:\", now)\n",
        "\n",
        "# Get the type of the datetime object\n",
        "print(\"Type of 'now':\", type(now))\n",
        "\n",
        "# Create a specific date\n",
        "my_date = datetime(2023, 10, 26)\n",
        "print(\"My date:\", my_date)\n",
        "print(\"Type of 'my_date':\", type(my_date))"
      ],
      "execution_count": null,
      "outputs": []
    },
    {
      "cell_type": "markdown",
      "metadata": {
        "id": "6a7e1022"
      },
      "source": [
        "You can also work with just dates using the `date` class and just times using the `time` class from the `datetime` module."
      ]
    },
    {
      "cell_type": "code",
      "metadata": {
        "id": "0dfa05ca"
      },
      "source": [
        "from datetime import date, time\n",
        "\n",
        "# Create a date object\n",
        "today = date.today()\n",
        "print(\"Today's date:\", today)\n",
        "print(\"Type of 'today':\", type(today))\n",
        "\n",
        "# Create a time object\n",
        "my_time = time(10, 30, 00)\n",
        "print(\"My time:\", my_time)\n",
        "print(\"Type of 'my_time':\", type(my_time))"
      ],
      "execution_count": null,
      "outputs": []
    }
  ]
}