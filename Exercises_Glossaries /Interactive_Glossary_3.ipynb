{
  "nbformat": 4,
  "nbformat_minor": 0,
  "metadata": {
    "colab": {
      "provenance": [],
      "authorship_tag": "ABX9TyO5n4Je+oZ+MT8WlYExoual",
      "include_colab_link": true
    },
    "kernelspec": {
      "name": "python3",
      "display_name": "Python 3"
    },
    "language_info": {
      "name": "python"
    }
  },
  "cells": [
    {
      "cell_type": "markdown",
      "metadata": {
        "id": "view-in-github",
        "colab_type": "text"
      },
      "source": [
        "<a href=\"https://colab.research.google.com/github/rozmar/Analyzing-Open-Neuroscience-Data-Course-SZTE/blob/main/Exercises_Glossaries%20/Interactive_Glossary_3.ipynb\" target=\"_parent\"><img src=\"https://colab.research.google.com/assets/colab-badge.svg\" alt=\"Open In Colab\"/></a>"
      ]
    },
    {
      "cell_type": "markdown",
      "source": [
        "Hurray!\\\n",
        " Now you know the basics of Python. So far we’ve interacted with Python’s built-in functions and types, but these offer only a limited set of commands and objects. To extend what Python can do, we import pre-written code: modules (single files) and packages (collections of modules). With these, you can generate random numbers, work with dates and times, perform fast numerical calculations, and handle large datasets and so on."
      ],
      "metadata": {
        "id": "eEGGh4GsVvZf"
      }
    },
    {
      "cell_type": "markdown",
      "source": [
        "<div class=\"default\" style=\"border-left: 3px solid #000; padding: 1px; padding-left: 10px; background: #F0FAFF; color: #000;\">\n",
        "<h2>Packages and Modules</h2>\n",
        "\n",
        "<p><b>Module:</b>\n",
        "<ol>\n",
        "<li>A file that contains the code defining a set of python functions, classes, and data.\n",
        "<li>A type of Python object that contains a set of python functions, classes, and data. Modules are loaded by Python using the <code>import</code> statement, and the functionality contained in the module is accessed as attributes of the module object.\n",
        "</ol>\n",
        "\n",
        "<p><b>Package:</b>\n",
        "<ol>\n",
        "<li>A collection of modules grouped together (that contains submodules and/or subpackages, providing a hierarchical organization for modules). Packages, just like modules, are loaded using the <code>import</code> statement.\n",
        "<li>A container of one or more related Python modules that can be installed together (for example, numpy is a package containing many submodules. It can be downloaded, installed, and imported.) The name \"library\" is sometimes used interchangeably with package.\n",
        "</ol>\n",
        "</div>"
      ],
      "metadata": {
        "id": "b2Qt-YKZbaGB"
      }
    },
    {
      "cell_type": "markdown",
      "source": [
        "Here are a few quick definitions:\n",
        "\n",
        "**import**: a keyword to load modules and packages\n",
        "\n",
        "**math**: a module that contains and gives access many mathematical functions like square root, logarithm, trigonometry, and constants such as π (pi) and e.\n",
        "\n",
        "**random**: the random module allows you to generate pseudo-random numbers, shuffle sequences, and make random choices. It's useful for simulations, sampling, or creating a dataset with variability."
      ],
      "metadata": {
        "id": "NPKsVgINeJ6n"
      }
    },
    {
      "cell_type": "code",
      "execution_count": null,
      "metadata": {
        "id": "FXojeCt2hXxD"
      },
      "outputs": [],
      "source": [
        "# Here is an example of importing and using a whole module\n",
        "\n",
        "import math\n",
        "print(math.sqrt(16))      # 4.0\n",
        "print(math.pi)            # constant pi\n",
        "print(math.log(100, 10))  # the base 10 logarithm of 100\n"
      ]
    },
    {
      "cell_type": "code",
      "source": [
        "#Use math to calculate cosine of 0\n",
        "import math\n"
      ],
      "metadata": {
        "id": "5JXZmhz5Zgs9"
      },
      "execution_count": null,
      "outputs": []
    },
    {
      "cell_type": "markdown",
      "source": [
        "The `from ... import ...` annotation lets you import just one part of a module, instead of the whole thing."
      ],
      "metadata": {
        "id": "LJJJDdhFmRmg"
      }
    },
    {
      "cell_type": "code",
      "source": [
        "# Here we inport specific function from a module\n",
        "# Run this cell multiple times and see what happens\n",
        "\n",
        "from random import choice     #from the \"random\" module the function, \"choice\" is imported\n",
        "print(choice([\"A\", \"T\", \"G\", \"C\"]))"
      ],
      "metadata": {
        "id": "oaFRUS-SZWtU"
      },
      "execution_count": null,
      "outputs": []
    },
    {
      "cell_type": "markdown",
      "source": [
        "#NumPy (Numerical Python)\n",
        "- A library (package) for numerical computing in Python. Provides arrays and efficient math operations to use on them.\n",
        "- It works with arrays (ndarray) that can be 1D, 2D, 3D or even multidemensional (nD).\n",
        "- Fast and efficient for dealing with larger datasets (arrays).\n",
        "\n",
        "**Array**: a data structure similar to a list, but contains only data of the same type (e.g.: all floats) and therefore optimal for mathematical operations.\n",
        "\n",
        "**Vectorization**: applying operations on entire arrays at once (no need for loops).\n",
        "\n",
        "It is the foundation library for scientific computing in Python. Most other libraries (like pandas, scikit-learn, even parts of matplotlib) use NumPy under the hood."
      ],
      "metadata": {
        "id": "2S2mzDcJm3sC"
      }
    },
    {
      "cell_type": "code",
      "source": [
        "import numpy as np\n",
        "\n",
        "# create arrays\n",
        "arr = np.array([1, 2, 3, 4])\n",
        "print(arr * 2)  # vectorized multiplication\n",
        "\n"
      ],
      "metadata": {
        "id": "gVh3XzZJZO5a"
      },
      "execution_count": null,
      "outputs": []
    },
    {
      "cell_type": "markdown",
      "source": [
        "The `import module/package as ...` annotation lets you give a shorter alias (nickname) to the module/package, which can be helpful if you intend to call that module and its functions a lot.\n",
        "Technically you can write anything after \"as\", but often there is a consensus about what to call comonly used modules.\n",
        "e.g.:\n",
        "```\n",
        "import numpy as np\n",
        "import pandas as pd\n",
        "```\n",
        "\n",
        "\n",
        "\n",
        "\n"
      ],
      "metadata": {
        "id": "dwvj3ns_kQFU"
      }
    },
    {
      "cell_type": "code",
      "source": [
        "import numpy as np\n",
        "\n",
        "# Create an array from a Python list. dtype controls the storage type.\n",
        "arr = np.array([1, 2, 3.0, 4])\n",
        "print(arr)\n",
        "print(arr.dtype)\n",
        "\n",
        "# Task: make one characer a float or a string. Check .dtype each time.\n",
        "\n",
        "import numpy as np\n",
        "\n",
        "# Create an array from a Python list. dtype controls the storage type.\n",
        "arr = np.array([1, 2, 3, 4], dtype=str)\n",
        "print(arr, arr.dtype)\n",
        "\n",
        "# Task: make the same array as integers, then as strings. Check .dtype each time.\n",
        "\n"
      ],
      "metadata": {
        "id": "DqfEBT2vvOqU"
      },
      "execution_count": null,
      "outputs": []
    },
    {
      "cell_type": "code",
      "source": [
        "# slicing\n",
        "print(arr[1:3])  # [2 3]"
      ],
      "metadata": {
        "id": "xXmRQb2ZvGaS"
      },
      "execution_count": null,
      "outputs": []
    },
    {
      "cell_type": "markdown",
      "source": [
        "Here are a few ways to create arrays and matrices"
      ],
      "metadata": {
        "id": "U3TBIdKNOc8X"
      }
    },
    {
      "cell_type": "code",
      "source": [
        "# np.array([row1],[row2], [row3])\n",
        "\n",
        "mat = np.array([[1,2,3],[4,5,6]])     # row elements in square brackets, rows separated by commas\n",
        "print(mat)\n",
        "print(mat.T)                          # transpose (makes rows ino cols and cols into rows)"
      ],
      "metadata": {
        "id": "CmSMDQ111gon"
      },
      "execution_count": null,
      "outputs": []
    },
    {
      "cell_type": "code",
      "source": [
        "#how to create filled matrices:\n",
        "# (rows, columns)\n",
        "z = np.zeros((2, 3))        # 2x3 of 0.0\n",
        "o = np.ones((3, 2))         # 3x2 of 1.0\n",
        "f = np.full((2, 2), 7)      # 2x2 of 7\n",
        "\n",
        "print(z, \"\\n\\n\", o, \"\\n\\n\", f)          # the \\n means a linebreak (an enter)\n",
        "\n",
        "# Task: create a 4x4 array filled with 0.5 (float).\n"
      ],
      "metadata": {
        "id": "UVrMW_s527R4"
      },
      "execution_count": null,
      "outputs": []
    },
    {
      "cell_type": "code",
      "metadata": {
        "id": "029a6969"
      },
      "source": [
        "import numpy as np\n",
        "\n",
        "# Create a 3x3 array with random numbers\n",
        "random_array = np.random.rand(3, 3)                   # rand gives back values between 0 and 1\n",
        "print(random_array)\n",
        "\n",
        "# You can also specify a different distribution, for example, a normal distribution:\n",
        "random_normal_array = np.random.randn(3, 3)           # samples from standard normal distribution\n",
        "print(\"\\n\", random_normal_array)\n",
        "\n",
        "# Or random integers within a range:\n",
        "random_integer_array = np.random.randint(0, 10, size=(3, 3)) # random integers between 0 (inclusive) and 10 (exclusive)\n",
        "print(\"\\n\", random_integer_array)"
      ],
      "execution_count": null,
      "outputs": []
    },
    {
      "cell_type": "code",
      "source": [
        "# arange: start (here:0), stop (here:10), step (here:2)  (stop is exclusive)\n",
        "a = np.arange(0, 10, 2)\n",
        "# linspace: start, stop, number_of_points (inclusive), creates an array of evenly spaced numbers\n",
        "b = np.linspace(0, 1, 5)\n",
        "\n",
        "print(\"arange:\", a)\n",
        "print(\"linspace:\", b)\n",
        "\n",
        "# Task: make 8 evenly spaced points between -2 and 2 (inclusive)."
      ],
      "metadata": {
        "id": "ygfrBjOF105C"
      },
      "execution_count": null,
      "outputs": []
    },
    {
      "cell_type": "markdown",
      "source": [
        "**Reshaping arrays:**"
      ],
      "metadata": {
        "id": "eyzhO6x_NYiO"
      }
    },
    {
      "cell_type": "code",
      "source": [
        "x = np.arange(1, 13)          # 1..12\n",
        "print(\"Original array: \", x)\n",
        "\n",
        "mat = x.reshape(3, 4)         # 3 rows, 4 cols\n",
        "print(\"Reshaped array: \", mat)\n",
        "\n",
        "flat = mat.ravel()            # \"flattens\" the array (creates a 1D array)\n",
        "\n",
        "print(\"Flattened array: \", flat)\n"
      ],
      "metadata": {
        "id": "Wf2_r3DJDE7_"
      },
      "execution_count": null,
      "outputs": []
    },
    {
      "cell_type": "code",
      "metadata": {
        "id": "9607137f"
      },
      "source": [
        "x = np.arange(1, 13)          # 1..12\n",
        "mat = x.reshape(3, 4)         # 3 rows, 4 cols\n",
        "print(mat)\n",
        "\n",
        "# Accessing the element in the second row (index 1) and third column (index 2)\n",
        "element = mat[1, 2]\n",
        "print(f\"The element in the 2nd row and 3rd column is: {element}\")"
      ],
      "execution_count": null,
      "outputs": []
    },
    {
      "cell_type": "markdown",
      "source": [
        "**Mathematical vectorised operations:**\\\n",
        "allows for the modification of each number in an array"
      ],
      "metadata": {
        "id": "1QSl6aaGMGCd"
      }
    },
    {
      "cell_type": "code",
      "source": [
        "#You can do mathematical operations on entire arrays\n",
        "\n",
        "x = np.array([1, 4, 9, 16], dtype=float)\n",
        "print(np.sqrt(x))\n",
        "print(np.log(x))    # natural log\n",
        "print(x ** 0.5)     # same as square root (x az 1/2-ediken)\n"
      ],
      "metadata": {
        "id": "leTPLPxwE5LM"
      },
      "execution_count": null,
      "outputs": []
    },
    {
      "cell_type": "markdown",
      "source": [
        "**Aggregations**:\\\n",
        "A very useful function of numpy is that you can calculate the `sum, mean, std, min, max, argmin, argmax` of entire arrays and sections of the arrays (like columns and rows)."
      ],
      "metadata": {
        "id": "bsYzRX-HG1_Z"
      }
    },
    {
      "cell_type": "code",
      "source": [
        "a = np.array([3, 7, 8, 5, 10])\n",
        "print(\"sum:\", a.sum(), \"mean:\", a.mean(), \"std:\", a.std())\n",
        "\n",
        "#\"arg\" functions return the indices of searched values. (like: a.argmin = Where is the smallest value in a?)\n",
        "print(\"argmin:\", a.argmin(), \"argmax:\", a.argmax())  # indices of the numbers\n",
        "\n",
        "mat = np.arange(1, 13).reshape(3, 4)\n",
        "print(mat)\n",
        "print(mat.argmax())"
      ],
      "metadata": {
        "id": "A7KXTXgdGnud"
      },
      "execution_count": null,
      "outputs": []
    },
    {
      "cell_type": "markdown",
      "source": [
        "**Axis operations:**\n",
        "\n",
        "axis=0 → do operations on columns (go down rows)\n",
        "\n",
        "axis=1 → do operations on rows (go across columns)"
      ],
      "metadata": {
        "id": "lo_EEAEkJo5D"
      }
    },
    {
      "cell_type": "code",
      "source": [
        "A = np.arange(1,13).reshape(3,4)   # 3 rows, 4 cols\n",
        "\n",
        "print(A.mean(axis=0))   # column means (length 4)\n",
        "print(A.sum(axis=1))    # row sums    (length 3)\n",
        "print(A.min(axis=0))    # per-column min\n",
        "print(A.std(axis=1))    # per-row std\n"
      ],
      "metadata": {
        "id": "bPd7DIS-Hicc"
      },
      "execution_count": null,
      "outputs": []
    },
    {
      "cell_type": "markdown",
      "source": [
        "**Boolean masks:**\n",
        "You can mask (choose) values based on whether they satisfy a condition or not."
      ],
      "metadata": {
        "id": "Bu5UmtmarpjY"
      }
    },
    {
      "cell_type": "code",
      "source": [
        "arr = np.array([5, 1, 7, 3, 9, 2])\n",
        "\n",
        "mask = arr > 4              # boolean mask (this creates a copy that will hold the values that satisfy the condition)\n",
        "print(\"mask:\", mask)\n",
        "print(\"values that are bigger than 4:\", arr[mask])\n",
        "\n",
        "# Task: print all values that are odd (hint: arr % 2 == 1).\n"
      ],
      "metadata": {
        "colab": {
          "base_uri": "https://localhost:8080/"
        },
        "id": "5YNclpa9r73j",
        "outputId": "3a5d3968-a81c-4c73-c55e-6dc2c0f58798"
      },
      "execution_count": 40,
      "outputs": [
        {
          "output_type": "stream",
          "name": "stdout",
          "text": [
            "mask: [ True False  True False  True False]\n",
            "values > 4: [5 7 9]\n"
          ]
        }
      ]
    }
  ]
}