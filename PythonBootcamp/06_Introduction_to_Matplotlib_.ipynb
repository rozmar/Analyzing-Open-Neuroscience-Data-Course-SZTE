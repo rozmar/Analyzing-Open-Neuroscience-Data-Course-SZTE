{
  "cells": [
    {
      "cell_type": "markdown",
      "metadata": {
        "id": "view-in-github",
        "colab_type": "text"
      },
      "source": [
        "<a href=\"https://colab.research.google.com/github/rozmar/Analyzing-Open-Neuroscience-Data-Course-SZTE/blob/main/PythonBootcamp/06_Introduction_to_Matplotlib_.ipynb\" target=\"_parent\"><img src=\"https://colab.research.google.com/assets/colab-badge.svg\" alt=\"Open In Colab\"/></a>"
      ]
    },
    {
      "cell_type": "markdown",
      "metadata": {
        "id": "jDpM357W9clX"
      },
      "source": [
        "<div class=\"default\" style=\"border-left: 3px solid #000; padding: 1px; padding-left: 10px; background: #F0FAFF; color: #000;\">\n",
        "    \n",
        "<center><h2>Table of Contents & Jumplinks</h2></center>\n",
        "\n",
        "<h3>Coding Package Introductions</h3>\n",
        "\n",
        "* <a href='#matplotlib'>Matplotlib background</a>\n",
        "* <a href='#imports'>package imports</a>\n",
        "* <a href='#load_dataset'>create fake datasets</a>\n",
        "* <a href='#matplotlib_basics'>matplotlib coding basics</a>\n",
        "\n",
        "    \n",
        "<h3>Basic Data Visualizations</h3>\n",
        "\n",
        "* <a href='#bar'>Bar plots</a>\n",
        "* <a href='#box'>Box plots</a>\n",
        "* <a href='#scatter'>Scatter plots</a>\n",
        "* <a href='#timeseries'>Line/timeseries plots</a>\n",
        "* <a href=\"#histogram\">Histograms</a>\n",
        "* <a href='#image'>image data</a>   \n",
        "* <a href='#multiplots'>multiple plots per figure</a>\n",
        "\n",
        "</div>"
      ]
    },
    {
      "cell_type": "code",
      "source": [
        "import os\n",
        "if not os.path.isdir(\"Analyzing-Open-Neuroscience-Data-Course-SZTE\"):\n",
        "    !git clone --depth 1 https://github.com/rozmar/Analyzing-Open-Neuroscience-Data-Course-SZTE.git\n",
        "%cd Analyzing-Open-Neuroscience-Data-Course-SZTE\n",
        "\n",
        "# check if the cloning was succesful\n",
        "import pathlib\n",
        "path = pathlib.Path(\"support_files/images/data_viz/viz_subplots.png\")\n",
        "print(\"Exists?\", path.exists())\n",
        "!ls -lh support_files/images/data_viz | head\n"
      ],
      "metadata": {
        "id": "Idh0qlgaShLV",
        "collapsed": true
      },
      "execution_count": null,
      "outputs": []
    },
    {
      "cell_type": "markdown",
      "metadata": {
        "id": "UNWi1peD9clY"
      },
      "source": [
        "<div class=\"default\" style=\"border-left: 3px solid #000; padding: 1px; padding-left: 10px; background: #F0FAFF; color: #000;\">\n",
        "<a id=\"matplotlib\"></a>\n",
        "<center><h1>Introduction to Matplotlib</h1></center>\n",
        "\n",
        "    \n",
        "<img src=\"https://github.com/rozmar/Analyzing-Open-Neuroscience-Data-Course-SZTE/blob/main/support_files/images/data_viz/matplotlib_logo.png?raw=1\" width='600'/>  \n",
        "\n",
        "<p>\n",
        "    <b>matplotlib</b> is a plotting library for Python.\n",
        "<p>\n",
        "<h3>Pros:</h3>\n",
        "<ul>\n",
        "<li>Huge amount of functionality/options.\n",
        "<li>Works with numpy arrays and python lists.\n",
        "<li>Comes with many prepackaged Python distros (anaconda, WinPython, etc.).\n",
        "<li>Easily saves plots to image (.png, .bmp, etc.) and vector (.svg, .pdf, etc.) formats.\n",
        "<li>Has an excellent set of examples (with code) at the <a href=\"https://matplotlib.org/stable/gallery/index.html\">matplotlib gallery</a>\n",
        "<li>Shares many syntactic conventions with Matlab.\n",
        "</ul>\n",
        "\n",
        "<p>\n",
        "<h3>Cons:</h3>\n",
        "<ul>\n",
        "<li>Slow for rapidly updating plots.\n",
        "<li>3D plotting support is not great.\n",
        "<li>Documentation is not always useful.\n",
        "<li>Essentially has two interfaces.  One is intended to be close to Matlab, the other is object oriented.  You will find examples that assume one or the other, but rarely the one you are after.\n",
        "<li>Shares many syntactic conventions with Matlab.\n",
        "</ul>\n",
        "\n",
        "\n",
        "<p>\n",
        "<h3>Resources:</h3>\n",
        "<ul>\n",
        "<li><a href=\"https://matplotlib.org/cheatsheets/\">cheat sheets</a>\n",
        "<li><a href=\"https://www.youtube.com/watch?v=UO98lJQ3QGI&list=PL-osiE80TeTvipOqomVEeZ1HRrcEvtZB_\">youtube tutorials</a>\n",
        "</ul>\n",
        "\n",
        "<a id=\"imports\"></a>\n",
        "</div>"
      ]
    },
    {
      "cell_type": "code",
      "execution_count": null,
      "metadata": {
        "id": "ce1ptTVA9clZ"
      },
      "outputs": [],
      "source": [
        "# Import numpy and pyplot\n",
        "import matplotlib.pyplot as plt\n",
        "import numpy as np"
      ]
    },
    {
      "cell_type": "markdown",
      "metadata": {
        "id": "sd5-8lT09clc"
      },
      "source": [
        "<div class=\"default\" style=\"border-left: 3px solid #000; padding: 1px; padding-left: 10px; background: #F0FAFF; color: #000;\">\n",
        "<h3> Creating Fake Data </h3>\n",
        "<a id=\"load_dataset\"></a>\n",
        "\n",
        "The first thing we need to create some fake data so we have something to plot!  Lets create fake:\n",
        "    \n",
        "* timeseries data (times and values)\n",
        "* Categorical and Numeric data (categories and values)\n",
        "\n",
        "</div>"
      ]
    },
    {
      "cell_type": "code",
      "execution_count": null,
      "metadata": {
        "id": "rl4UX_JP9cld"
      },
      "outputs": [],
      "source": [
        "# timeseries (x values)\n",
        "times = np.arange(0, 10, 0.01)  # make evenly spaced points between 0 and 10 at intervals of 0.01\n",
        "\n",
        "# lets give ourselves a few different 'signals' to plot (y values)\n",
        "sin_values = np.sin(times)\n",
        "cos_values = np.cos(times)\n",
        "osc_values = np.sin(2 * np.pi * times) * np.exp(-0.5 * times)  # some function of x"
      ]
    },
    {
      "cell_type": "code",
      "execution_count": null,
      "metadata": {
        "id": "RHj88G-X9cld"
      },
      "outputs": [],
      "source": [
        "# categorical data\n",
        "\n",
        "# Adoptable cats!\n",
        "# categories\n",
        "cat_ids = np.array([0, 1, 2, 3, 4, 5, 6])\n",
        "cat_names = ['Ace', 'Bonsi', 'Comet', 'Dazzler', 'Espresso', 'Frank', 'Gertrude']\n",
        "\n",
        "# some values per cat\n",
        "adopt_apps = np.array([3, 2, 7, 13, 5, 4, 10])\n",
        "age_years = np.array([3, 5, 1, 9, 5, 2, 8])"
      ]
    },
    {
      "cell_type": "markdown",
      "metadata": {
        "id": "hCJoV8Af9cle"
      },
      "source": [
        "<div class=\"default\" style=\"border-left: 3px solid #000; padding: 1px; padding-left: 10px; background: #F0FAFF; color: #000;\">\n",
        "<h2> Matplotlib Basics </h2>\n",
        "<a id=\"matplotlib_basics\"></a>\n",
        "    \n",
        "We will be using pyplot.subplots (<code>plt.subplots()</code>) to create our beautiful data visualizations. Calling\n",
        "<code>plt.subplots()</code> gives back two objecs that are conventionally called a \"figure\" and an \"axes\". To represent these we will create two variables, **fig** and **ax**.\n",
        "    \n",
        "**fig:** You can think of the figure as the frame of your plot.\n",
        "* You can resize, reshape the frame but you cannot draw on it.\n",
        "* On a single notebook or a script, you can have multiple figures.\n",
        "* Each figure can have multiple subplots.\n",
        "       \n",
        "**ax:** an axes is your metaphorical canvas to draw on. Or rephrasing, it is the blank sheet you can plot and hold your data.\n",
        "* An axes object can only belong to one figure.\n",
        "<img src=\"https://github.com/rozmar/Analyzing-Open-Neuroscience-Data-Course-SZTE/blob/main/support_files/images/data_viz/figure_1axes.png?raw=1\" />   \n",
        "    \n",
        "    \n",
        "<img src=\"https://github.com/rozmar/Analyzing-Open-Neuroscience-Data-Course-SZTE/blob/main/support_files/images/data_viz/3axesFigure.png?raw=1\" />\n",
        "</div>"
      ]
    },
    {
      "cell_type": "markdown",
      "metadata": {
        "id": "TNC7_xGj9clf"
      },
      "source": [
        "<div class=\"default\" style=\"border-left: 3px solid #000; padding: 1px; padding-left: 10px; background: #F0FAFF; color: #000;\">\n",
        "<h3> Matplotlib  Code Basics </h3>\n",
        "    \n",
        "* create a figure: <code>fig, ax = plt.subplots()</code>\n",
        "    * Adjust figure size: <code>fig, ax = plt.subplots(figsize = (horizontal, vertical))</code>\n",
        "    * Multiple plots per figure: <code>fig, ax = plt.subplots(n_rows, n_columns)</code>\n",
        "        * Note!: we will cover this more in-depth later!\n",
        "\n",
        "* add title: <code>ax.set_title('plot title')</code>\n",
        "* set x label: <code>ax.set_xlabel('x label')</code>\n",
        "* set y label: <code>ax.set_ylabel('y label')</code>\n",
        "    \n",
        "NOTE: Later (tomorrow) you will learn Seaborn, which is another plotting package. Seaborn is essentially a wrapper for matplotlib there are many matplotlib conventions and functions that we will use on almost all of our plots regardless of whether they are seaborn or matplotlib plots\n",
        "\n",
        "</div>"
      ]
    },
    {
      "cell_type": "code",
      "execution_count": null,
      "metadata": {
        "id": "l-UMf_XL9clg"
      },
      "outputs": [],
      "source": [
        "# Lets practice by creating a blank plot!\n",
        "\n",
        "fig, ax = plt.subplots()\n",
        "ax.set_title('plot title')\n",
        "ax.set_xlabel('x axis')\n",
        "ax.set_ylabel('y axis')"
      ]
    },
    {
      "cell_type": "markdown",
      "metadata": {
        "id": "qCK69D7o9clh"
      },
      "source": [
        "<div class=\"default\" style=\"border-left: 3px solid #000; padding: 1px; padding-left: 10px; background: #F0FAFF; color: #000;\">\n",
        "<h3> Bells and Whistles </h3>\n",
        "\n",
        "    \n",
        "The Axes object (ax) that we created above provides many methods to help us annotate our plots:\n",
        "\n",
        "Tick Marks:\n",
        "\n",
        "* <a href=\"https://matplotlib.org/stable/api/_as_gen/matplotlib.axes.Axes.set_xticks.html\">ax.set_xticks</a>\n",
        "\n",
        "* <a href=\"https://matplotlib.org/stable/api/_as_gen/matplotlib.axes.Axes.set_xticklabels.html\">ax.set_xticklabels</a>\n",
        "\n",
        "Error Bars and Confidence Intervals\n",
        "\n",
        "* <a href=\"https://matplotlib.org/stable/api/_as_gen/matplotlib.pyplot.errorbar.html\">ax.errorbar()</a>\n",
        "    \n",
        "Many more otions are available here -- you can customize the the border, axis ticks, tick labels, line styles, fonts, spacing, etc. The <a href=\"https://matplotlib.org/stable/api/axes_api.html\">documentation</a> and examples available online are good, so usually a google search will get you answers quickly.\n",
        "\n",
        "</div>"
      ]
    },
    {
      "cell_type": "markdown",
      "metadata": {
        "id": "bfzOlOL89clh"
      },
      "source": [
        "<div class=\"default\" style=\"border-left: 3px solid #000; padding: 1px; padding-left: 10px; background: #F0FAFF; color: #000;\">\n",
        "\n",
        "<h3>Bar Plots</h3>\n",
        "<a id=\"bar\"></a>\n",
        "\n",
        "[.bar](https://matplotlib.org/stable/api/_as_gen/matplotlib.pyplot.bar.html) will create a basic bar plot that you will have to add titles and axes labels to.\n",
        "\n",
        "**Basic code:**\n",
        "```\n",
        "fig, ax = plt.subplots()\n",
        "\n",
        "ax.bar(x values, y values)\n",
        "\n",
        "# for bar charts, we often want to customize the x axis ticks and labels\n",
        "ax.set_xticks(x values)\n",
        "ax.set_xticklabels( x labels);\n",
        "\n",
        "# set axis labels\n",
        "ax.set_xlabel('x axis')\n",
        "ax.set_ylabel('y axis')\n",
        "```    \n",
        "\n",
        "</div>"
      ]
    },
    {
      "cell_type": "code",
      "execution_count": null,
      "metadata": {
        "id": "V_L6Pkhc9cli"
      },
      "outputs": [],
      "source": [
        "#Lets make a bar plot!\n",
        "\n",
        "# we will use our fake categorical data for bar plots\n",
        "\n",
        "fig, ax = plt.subplots()\n",
        "\n",
        "ax.bar(cat_ids, adopt_apps)\n",
        "\n",
        "\n",
        "# for bar charts, we often want to customize the x axis ticks and labels\n",
        "ax.set_xticks(cat_ids)\n",
        "ax.set_xticklabels(cat_names)\n",
        "\n",
        "# set axis labels\n",
        "ax.set_xlabel('Cat')\n",
        "ax.set_ylabel('Num Adoption Applications');"
      ]
    },
    {
      "cell_type": "markdown",
      "metadata": {
        "id": "vL_GVK5u9clj"
      },
      "source": [
        "<div class=\"default\" style=\"border-left: 3px solid #000; padding: 1px; padding-left: 10px; background: #F0FAFF; color: #000;\">\n",
        "\n",
        "<h3>Box Plots</h3>\n",
        "<a id=\"box\"></a>\n",
        "\n",
        "[.boxplot](https://matplotlib.org/stable/api/_as_gen/matplotlib.pyplot.boxplot.html) will create a basic boxplot that you will have to add titles and axes labels to.\n",
        "\n",
        "**Basic code:**\n",
        "* vertical: <code>plt.boxplot(values of interest)</code>\n",
        "* horizontal: <code>plt.boxplot(values of interest, vert=False )</code>\n",
        "\n",
        "</div>"
      ]
    },
    {
      "cell_type": "code",
      "execution_count": null,
      "metadata": {
        "id": "q2FzVRNS9clj"
      },
      "outputs": [],
      "source": [
        "# Lets plot the distribution adoption applications for our cats\n",
        "# using a boxplot!\n",
        "\n",
        "fig, ax = plt.subplots()\n",
        "ax.boxplot(adopt_apps)\n",
        "ax.set_title('Basic Boxplot')\n",
        "\n",
        "# axis labels\n",
        "ax.set_ylabel('Num Adoption Applications')\n",
        "ax.set_xlabel('All Cats')\n"
      ]
    },
    {
      "cell_type": "markdown",
      "metadata": {
        "id": "hOu-eBXv9clk"
      },
      "source": [
        "<div class=\"default\" style=\"border-left: 3px solid #000; padding: 1px; padding-left: 10px; background: #F0FAFF; color: #000;\">\n",
        "\n",
        "<h3>Scatter Plots</h3>\n",
        "<a id=\"scatter\"></a>\n",
        "\n",
        "Matplotlib has a built in scatter plot function:**<code>[.scatter()]( https://matplotlib.org/stable/api/_as_gen/matplotlib.pyplot.scatter.html)</code>**\n",
        "\n",
        "**Basic code**\n",
        "\n",
        "```\n",
        "ax.scatter(x = x values,\n",
        "           y = y values)\n",
        "```\n",
        "\n",
        "</div>"
      ]
    },
    {
      "cell_type": "code",
      "execution_count": null,
      "metadata": {
        "id": "_ZuKAR9a9clk"
      },
      "outputs": [],
      "source": [
        "# Now lets plot age vs number of applications\n",
        "fig, ax = plt.subplots()\n",
        "\n",
        "ax.scatter(x = age_years,\n",
        "           y = adopt_apps)\n",
        "\n",
        "ax.set_title('Adoption Applications by Cat Age')\n",
        "ax.set_xlabel('Age (years)')\n",
        "ax.set_ylabel('num applications');"
      ]
    },
    {
      "cell_type": "markdown",
      "metadata": {
        "id": "Q7XGNhCg9clk"
      },
      "source": [
        "<div class=\"default\" style=\"border-left: 3px solid #000; padding: 1px; padding-left: 10px; background: #F0FAFF; color: #000;\">\n",
        "\n",
        "<h3>Lineplots</h3>\n",
        "<a id=\"timeseries\"></a>\n",
        "    \n",
        "**<code>[.plot()](https://matplotlib.org/stable/api/_as_gen/matplotlib.pyplot.plot.html)</code>** offers very basic line plotting\n",
        "\n",
        "**Basic code:**\n",
        "<code>plt.plot(x, y)</code>\n",
        "    \n",
        "**Bells and Whistles**   \n",
        "```\n",
        "fig, ax = plt.subplots()\n",
        "\n",
        "# plot multiple lines\n",
        "# specify line color, line thickness and give a label for each line (will be displayed in the legend)\n",
        "\n",
        "ax.plot(x, y1, color='red', linewidth=.5, label='label text') # line 1\n",
        "ax.plot(x, y2, color='blue', linewidth=2, label='label text') # line 2\n",
        "\n",
        "    \n",
        "# Add a title at the top of the plot\n",
        "ax.set_title('title here')\n",
        "\n",
        "# Add x/y axis labels\n",
        "ax.set_xlabel('x label')\n",
        "ax.set_ylabel('y label')\n",
        "    \n",
        "# set the viewable window of the x or y axis\n",
        "# ax.set_xlim(lower limit, upper limit)\n",
        "# ax.set_ylim(lower limit, upper limit)\n",
        "\n",
        "# Add a legend to plot the line labels assigned above!\n",
        "ax.legend();\n",
        "```\n",
        "\n",
        "</div>"
      ]
    },
    {
      "cell_type": "markdown",
      "metadata": {
        "id": "IW2N486B9cll"
      },
      "source": [
        "<div class=\"exercise\" style=\"background: #DFF0D8; border-radius: 3px; padding: 10px; color: #000;\">\n",
        "<p><b>Exercise 1.1</b>\n",
        "\n",
        "Make a simple lineplot of the of `osc_values` by `times`\n",
        "* set the title to \"A Damped Oscillator\"\n",
        "* set the x and y axis to 'Time (s)' and 'Amplitude'\n",
        "\n",
        "</div>"
      ]
    },
    {
      "cell_type": "code",
      "execution_count": null,
      "metadata": {
        "id": "nW68FCe99clm"
      },
      "outputs": [],
      "source": [
        "fig, ax = plt.subplots()\n",
        "\n",
        "# plot the osc_values as a red line\n",
        "ax.plot(times, osc_values, color='red', label = 'osc label')\n",
        "\n",
        "# Add a title at the top of the plot\n",
        "ax.set_title('A Damped Oscillator')\n",
        "\n",
        "# Add x/y axis labels\n",
        "ax.set_xlabel('Time (s)')\n",
        "ax.set_ylabel('Amplitude')\n",
        "\n",
        "# set the viewable window of the x or y axis\n",
        "ax.set_xlim()                             #set the \"zoom in\" on the figure\n",
        "# ax.set_ylim(lower limit, upper limit)\n",
        "\n",
        "# Add a legend to plot the line labels assigned above!\n",
        "ax.legend();     #provided in the 4th line"
      ]
    },
    {
      "cell_type": "markdown",
      "metadata": {
        "id": "PCgR0rGR9clm"
      },
      "source": [
        "<div class=\"exercise\" style=\"background: #DFF0D8; border-radius: 3px; padding: 10px; color: #000;\">\n",
        "<b>Exercise 1.2</b>\n",
        "\n",
        "Make a lineplot that includes the `sin_values` and `cos_values` by `times`.\n",
        "* make sin to red and give 'sin' as label name\n",
        "* make cos blue and give 'cos' as label name\n",
        "* add same x,y axis labels as above\n",
        "\n",
        "</div>"
      ]
    },
    {
      "cell_type": "code",
      "execution_count": null,
      "metadata": {
        "id": "jJRkEGom9clm"
      },
      "outputs": [],
      "source": []
    },
    {
      "cell_type": "markdown",
      "metadata": {
        "id": "E-GGGU5O9clm"
      },
      "source": [
        "<div class=\"default\" style=\"border-left: 3px solid #000; padding: 1px; padding-left: 10px; background: #F0FAFF; color: #000;\">\n",
        "\n",
        "<h3>Histograms</h3>\n",
        "<a id=\"histogram\"></a>\n",
        "    \n",
        "histograms are relatively simple with matplotlib using **[.hist]( https://matplotlib.org/stable/api/_as_gen/matplotlib.pyplot.hist.html)**\n",
        "    \n",
        "**frequency:**\n",
        "    <code>plt.hist(values of interest, bins = int)</code>\n",
        "\n",
        "**density:**\n",
        "    <code>plt.hist(values of interest, bins = int, density = True)</code>\n",
        "    \n",
        "</div>"
      ]
    },
    {
      "cell_type": "code",
      "execution_count": null,
      "metadata": {
        "id": "fNEyIGog9cln"
      },
      "outputs": [],
      "source": [
        "# Lets practice making a histogram with the oscillation values\n",
        "\n",
        "fig, ax = plt.subplots()\n",
        "ax.hist(osc_values, bins=30)\n",
        "#ax.hist(osc_values, bins=30, density = True);"
      ]
    },
    {
      "cell_type": "markdown",
      "metadata": {
        "id": "6_G59zIW9cln"
      },
      "source": [
        "<div class=\"default\" style=\"border-left: 3px solid #000; padding: 1px; padding-left: 10px; background: #F0FAFF; color: #000;\">\n",
        "<h2> Image Data</h2>\n",
        "<a id=\"image\"></a>\n",
        "\n",
        "Any time we have a 2D array of values, it may be useful to visualize the array as an image. Matplotlib gives us many options to control how data values are converted to image pixel colors.\n",
        "​\n",
        "This process is very simple with matplotlib, just use [.imshow()](https://matplotlib.org/stable/api/_as_gen/matplotlib.pyplot.imshow.html)\n",
        "    \n",
        "<img src=\"https://github.com/rozmar/Analyzing-Open-Neuroscience-Data-Course-SZTE/blob/main/\n",
        "support_files/images/data_viz/image_data.png?raw=1\" width=\"300\"/>\n",
        "\n",
        "<p><b>Basic code:</b> <code>ax.imshow(2d_image_array_data)</code>\n",
        "​\n",
        "<p><b>Helpful Parameters</b>\n",
        "<ul>\n",
        "<li> <code>cmap= string</code>: The Colormap instance or registered colormap name used to map scalar data to colors. This parameter is ignored for RGB(A) data. Default: 'viridis'  For more colormaps check out the <a href=\"https://matplotlib.org/stable/tutorials/colors/colormaps.html\">colormap documentation</a>)\n",
        "<li> <code>clim =(min,max)</code>: Set the color limits of the current image. If either vmin or vmax is None, the image min/max respectively will be used for color scaling.\n",
        "</ul>\n",
        "</div>"
      ]
    },
    {
      "cell_type": "code",
      "execution_count": null,
      "metadata": {
        "id": "Y6Txt4mb9cln"
      },
      "outputs": [],
      "source": [
        "# First, make an interesting 2D array of values\n",
        "\n",
        "x = np.linspace(-10, 10, 100)\n",
        "y = np.linspace(-5, 5, 50)\n",
        "r = (y[:, None]**2 + x[None, :]**2)**0.5\n",
        "data = np.sin(r) / r + np.random.normal(size=(50, 100), scale=0.1)\n",
        "\n",
        "print(\"Array shape:\", data.shape)\n",
        "r"
      ]
    },
    {
      "cell_type": "code",
      "execution_count": null,
      "metadata": {
        "id": "NuNIwhzO9cln"
      },
      "outputs": [],
      "source": [
        "# show as an image\n",
        "\n",
        "fig, ax = plt.subplots()\n",
        "ax.imshow(data, cmap='plasma');  #try cividis, gist_rainbow, RdYlBu..."
      ]
    },
    {
      "cell_type": "code",
      "execution_count": null,
      "metadata": {
        "id": "kKrHrk8N9clo"
      },
      "outputs": [],
      "source": [
        "fig, ax = plt.subplots()\n",
        "image = ax.imshow(data, cmap='plasma', clim=(-0.3, 0.3)) #clim = color limits (applied to the whole dataset)\n",
        "\n",
        "# Add a colorbar using the previously-returned image object (which carries information about the colormap and limits)\n",
        "fig.colorbar(image, ax=ax, shrink=0.7);"
      ]
    },
    {
      "cell_type": "markdown",
      "metadata": {
        "id": "4l38jL789clo"
      },
      "source": [
        "<div class=\"default\" style=\"border-left: 3px solid #000; padding: 1px; padding-left: 10px; background: #F0FAFF; color: #000;\">\n",
        "<h2> Multi Plot Figures</h2>\n",
        "<a id=\"multiplots\"></a>\n",
        "\n",
        "**Figures with Subplots**\n",
        "\n",
        "A given figure can have more than one axis. The subplot command, which we used above, generates a single axis by default. But we can specify the number of axes that we want..\n",
        "    \n",
        "<img src=\"https://github.com/rozmar/Analyzing-Open-Neuroscience-Data-Course-SZTE/blob/main/support_files/images/data_viz/viz_subplots.png?raw=1\" width=\"500\"/>\n",
        "\n",
        "    \n",
        "**Complex Figures with Gridspec**\n",
        "\n",
        "[Gridspec](http://matplotlib.org/users/gridspec.html) is useful when you have uneven subplots. It can get tricky for more complex plots, so first try to use <code>ax.subplots()</code> (like in the previous examples) if possible.  \n",
        "\n",
        "<img src=\"https://github.com/rozmar/Analyzing-Open-Neuroscience-Data-Course-SZTE/blob/main/support_files/images/data_viz/viz_gridspec.png?raw=1\" width=\"500\"/>\n",
        "\n",
        "</div>"
      ]
    },
    {
      "cell_type": "markdown",
      "metadata": {
        "id": "lZr38wia9clo"
      },
      "source": [
        "<div class=\"default\" style=\"border-left: 3px solid #000; padding: 1px; padding-left: 10px; background: #F0FAFF; color: #000;\">\n",
        "\n",
        "**Subplot**\n",
        "\n",
        "[.subplots]( https://matplotlib.org/stable/api/_as_gen/matplotlib.pyplot.subplots.html): creates a figure and a set of subplots. This utility wrapper makes it convenient to create common layouts of subplots, including the enclosing figure object, in a single call.\n",
        "\n",
        "General code example:\n",
        "\n",
        "```\n",
        "fig, axes = plt.subplots(nrows=2, ncols=1)\n",
        "axes[0].plot()\n",
        "axes[1].plot()\n",
        "```\n",
        "    \n",
        "Optional Parameters for subplots call:\n",
        "* <code> sharex/sharey = bool </code> forces plots to display the same range along the x-axis  or y-axis depending upon which argument you call. Default = False\n",
        "\n",
        "</div>"
      ]
    },
    {
      "cell_type": "code",
      "execution_count": null,
      "metadata": {
        "id": "JfSqqIF19clo"
      },
      "outputs": [],
      "source": [
        "# Lets create 2 basic boxplots of number of applications and cat age and put them\n",
        "# in the same figure:\n",
        "\n",
        "fig, axes = plt.subplots(nrows=1,ncols=2, figsize=(8,3))\n",
        "\n",
        "axes[0].boxplot(adopt_apps)\n",
        "axes[0].set_title('number adoption applications')\n",
        "axes[0].set_ylabel('Application number')\n",
        "axes[0].set_xlabel('All Cats')\n",
        "\n",
        "\n",
        "axes[1].boxplot(age_years)\n",
        "axes[1].set_title('Cat Ages')\n",
        "axes[1].set_ylabel('Age')\n",
        "axes[1].set_xlabel('All Cats')"
      ]
    },
    {
      "cell_type": "markdown",
      "metadata": {
        "id": "ecXaDVdq9clp"
      },
      "source": [
        "<div class=\"default\" style=\"border-left: 3px solid #000; padding: 1px; padding-left: 10px; background: #F0FAFF; color: #000;\">\n",
        "\n",
        "<h3>gridspec: matplotlib</h3>\n",
        "\n",
        "**[.subplots]( https://matplotlib.org/stable/api/_as_gen/matplotlib.pyplot.subplots.html)**: creates a figure and a set of subplots. This utility wrapper makes it convenient to create common layouts of subplots, including the enclosing figure object, in a single call.\n",
        "\n",
        "**General code example:** `\n",
        "\n",
        "```\n",
        "fig = plt.figure()\n",
        "gridspec_fig = fig.add_gridspec(nrows=2, ncols=2)\n",
        "ax0 = fig.add_subplot(gs[0, 0]) # Top left corner\n",
        "ax1 = fig.add_subplot(gs[0, 1]) # Top right corner\n",
        "ax2 = fig.add_subplot(gs[1, :]) # Bottom, span entire width\n",
        "    \n",
        "ax0.plot()\n",
        "ax1.plot()\n",
        "ax2.plot()\n",
        "```\n",
        "    \n",
        "**helpful parameters:**\n",
        "* <code> sharex/sharey = bool </code> forces plots to display the same range along the x-axis  or y-axis depending upon which parameter you call. Default = False\n",
        "\n",
        "</div>"
      ]
    },
    {
      "cell_type": "code",
      "execution_count": null,
      "metadata": {
        "id": "lsPTfpl89clp"
      },
      "outputs": [],
      "source": [
        "# We just need to add the ax = axes[int] parameter\n",
        "\n",
        "# Lets make 2 distribution plots of age and applications and\n",
        "# a scatter plot of number of applications by age\n",
        "\n",
        "fig = plt.figure()\n",
        "gs= fig.add_gridspec(nrows=2, ncols=2)\n",
        "ax0 = fig.add_subplot(gs[0, 0]) # Top left corner\n",
        "ax1 = fig.add_subplot(gs[0, 1]) # Top right corner\n",
        "ax2 = fig.add_subplot(gs[1, :]) # Bottom, span entire width\n",
        "\n",
        "ax0.hist(adopt_apps, bins=8)\n",
        "\n",
        "ax1.hist(age_years, bins=8)\n",
        "\n",
        "ax2.scatter(x = age_years, y = adopt_apps)"
      ]
    }
  ],
  "metadata": {
    "anaconda-cloud": {},
    "kernelspec": {
      "display_name": "Python 3 (ipykernel)",
      "language": "python",
      "name": "python3"
    },
    "language_info": {
      "codemirror_mode": {
        "name": "ipython",
        "version": 3
      },
      "file_extension": ".py",
      "mimetype": "text/x-python",
      "name": "python",
      "nbconvert_exporter": "python",
      "pygments_lexer": "ipython3",
      "version": "3.12.4"
    },
    "colab": {
      "provenance": [],
      "include_colab_link": true
    }
  },
  "nbformat": 4,
  "nbformat_minor": 0
}